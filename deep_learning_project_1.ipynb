{
 "cells": [
  {
   "cell_type": "code",
   "execution_count": 2,
   "metadata": {},
   "outputs": [
    {
     "data": {
      "image/png": "[encoded data removed]",
      "text/plain": [
       "<matplotlib.figure.Figure at 0x272699adb00>"
      ]
     },
     "metadata": {},
     "output_type": "display_data"
    }
   ],
   "source": [
    "# function definition\n",
    "import matplotlib.pyplot as plt\n",
    "%matplotlib inline\n",
    "import numpy as np\n",
    "import matplotlib.cm as cm \n",
    "\n",
    "# On some implementations of matplotlib, you may need to change this value\n",
    "IMAGE_SIZE = 72\n",
    "\n",
    "def generate_a_drawing(figsize, U, V, noise=0.0):\n",
    "    fig = plt.figure(figsize=(figsize,figsize))\n",
    "    ax = plt.subplot(111)\n",
    "    plt.axis('Off')\n",
    "    ax.set_xlim(0,figsize)\n",
    "    ax.set_ylim(0,figsize)\n",
    "    ax.fill(U, V, \"k\")\n",
    "    fig.canvas.draw()\n",
    "    imdata = np.frombuffer(fig.canvas.tostring_rgb(), dtype=np.uint8)[::3].astype(np.float32)\n",
    "    imdata = imdata + noise * np.random.random(imdata.size)\n",
    "    plt.close(fig)\n",
    "    return imdata\n",
    "\n",
    "def generate_a_rectangle(noise=0.0, free_location=False):\n",
    "    figsize = 1.0    \n",
    "    U = np.zeros(4)\n",
    "    V = np.zeros(4)\n",
    "    if free_location:\n",
    "        corners = np.random.random(4)\n",
    "        top = max(corners[0], corners[1])\n",
    "        bottom = min(corners[0], corners[1])\n",
    "        left = min(corners[2], corners[3])\n",
    "        right = max(corners[2], corners[3])\n",
    "    else:\n",
    "        side = (0.3 + 0.7 * np.random.random()) * figsize\n",
    "        top = figsize/2 + side/2\n",
    "        bottom = figsize/2 - side/2\n",
    "        left = bottom\n",
    "        right = top\n",
    "    U[0] = U[1] = top\n",
    "    U[2] = U[3] = bottom\n",
    "    V[0] = V[3] = left\n",
    "    V[1] = V[2] = right\n",
    "    return generate_a_drawing(figsize, U, V, noise)\n",
    "\n",
    "\n",
    "def generate_a_disk(noise=0.0, free_location=False):\n",
    "    figsize = 1.0\n",
    "    if free_location:\n",
    "        center = np.random.random(2)\n",
    "    else:\n",
    "        center = (figsize/2, figsize/2)\n",
    "    radius = (0.3 + 0.7 * np.random.random()) * figsize/2\n",
    "    N = 50\n",
    "    U = np.zeros(N)\n",
    "    V = np.zeros(N)\n",
    "    i = 0\n",
    "    for t in np.linspace(0, 2*np.pi, N):\n",
    "        U[i] = center[0] + np.cos(t) * radius\n",
    "        V[i] = center[1] + np.sin(t) * radius\n",
    "        i = i + 1\n",
    "    return generate_a_drawing(figsize, U, V, noise)\n",
    "\n",
    "def generate_a_triangle(noise=0.0, free_location=False):\n",
    "    figsize = 1.0\n",
    "    if free_location:\n",
    "        U = np.random.random(3)\n",
    "        V = np.random.random(3)\n",
    "    else:\n",
    "        size = (0.3 + 0.7 * np.random.random())*figsize/2\n",
    "        middle = figsize/2\n",
    "        U = (middle, middle+size, middle-size)\n",
    "        V = (middle+size, middle-size, middle-size)\n",
    "    imdata = generate_a_drawing(figsize, U, V, noise)\n",
    "    return [imdata, [U[0], V[0], U[1], V[1], U[2], V[2]]]\n",
    "\n",
    "\n",
    "im = generate_a_rectangle(10, True)\n",
    "plt.imshow(im.reshape(IMAGE_SIZE,IMAGE_SIZE), cmap='gray')\n",
    "\n",
    "im = generate_a_disk(10)\n",
    "plt.imshow(im.reshape(IMAGE_SIZE,IMAGE_SIZE), cmap='gray')\n",
    "\n",
    "[im, v] = generate_a_triangle(20, False)\n",
    "plt.imshow(im.reshape(IMAGE_SIZE,IMAGE_SIZE), cmap='gray')\n",
    "\n",
    "\n",
    "def generate_dataset_classification(nb_samples, noise=0.0, free_location=False):\n",
    "    # Getting im_size:\n",
    "    im_size = generate_a_rectangle().shape[0]\n",
    "    X = np.zeros([nb_samples,im_size])\n",
    "    Y = np.zeros(nb_samples)\n",
    "    print('Creating data:')\n",
    "    for i in range(nb_samples):\n",
    "        if i % 10 == 0:\n",
    "            print(i)\n",
    "        category = np.random.randint(3)\n",
    "        if category == 0:\n",
    "            X[i] = generate_a_rectangle(noise, free_location)\n",
    "        elif category == 1: \n",
    "            X[i] = generate_a_disk(noise, free_location)\n",
    "        else:\n",
    "            [X[i], V] = generate_a_triangle(noise, free_location)\n",
    "        Y[i] = category\n",
    "    X = (X + noise) / (255 + 2 * noise)\n",
    "    return [X, Y]\n",
    "\n",
    "def generate_test_set_classification():\n",
    "    np.random.seed(42)\n",
    "    [X_test, Y_test] = generate_dataset_classification(300, 20, True)\n",
    "    Y_test = np_utils.to_categorical(Y_test, 3) \n",
    "    return [X_test, Y_test]\n",
    "\n",
    "def generate_dataset_regression(nb_samples, noise=0.0):\n",
    "    # Getting im_size:\n",
    "    im_size = generate_a_triangle()[0].shape[0]\n",
    "    X = np.zeros([nb_samples,im_size])\n",
    "    Y = np.zeros([nb_samples, 6])\n",
    "    print('Creating data:')\n",
    "    for i in range(nb_samples):\n",
    "        if i % 10 == 0:\n",
    "            print(i)\n",
    "        [X[i], Y[i]] = generate_a_triangle(noise, True)\n",
    "    X = (X + noise) / (255 + 2 * noise)\n",
    "    return [X, Y]\n",
    "\n",
    "import matplotlib.patches as patches\n",
    "\n",
    "def visualize_prediction(x, y):\n",
    "    fig, ax = plt.subplots(figsize=(5, 5))\n",
    "    I = x.reshape((IMAGE_SIZE,IMAGE_SIZE))\n",
    "    ax.imshow(I, extent=[-0.15,1.15,-0.15,1.15],cmap='gray')\n",
    "    ax.set_xlim([0,1])\n",
    "    ax.set_ylim([0,1])\n",
    "\n",
    "    xy = y.reshape(3,2)\n",
    "    tri = patches.Polygon(xy, closed=True, fill = False, edgecolor = 'r', linewidth = 5, alpha = 0.5)\n",
    "    ax.add_patch(tri)\n",
    "\n",
    "    plt.show()\n",
    "\n",
    "def generate_test_set_regression():\n",
    "    np.random.seed(42)\n",
    "    [X_test, Y_test] = generate_dataset_regression(300, 20)\n",
    "    return [X_test, Y_test]\n",
    "\n",
    "\n"
   ]
  },
  {
   "cell_type": "markdown",
   "metadata": {},
   "source": [
    "# 3 Simple classification\n",
    "\n"
   ]
  },
  {
   "cell_type": "code",
   "execution_count": 3,
   "metadata": {},
   "outputs": [
    {
     "name": "stdout",
     "output_type": "stream",
     "text": [
      "Creating data:\n",
      "0\n",
      "10\n",
      "20\n",
      "30\n",
      "40\n",
      "50\n",
      "60\n",
      "70\n",
      "80\n",
      "90\n",
      "100\n",
      "110\n",
      "120\n",
      "130\n",
      "140\n",
      "150\n",
      "160\n",
      "170\n",
      "180\n",
      "190\n",
      "200\n",
      "210\n",
      "220\n",
      "230\n",
      "240\n",
      "250\n",
      "260\n",
      "270\n",
      "280\n",
      "290\n"
     ]
    },
    {
     "name": "stderr",
     "output_type": "stream",
     "text": [
      "C:\\ProgramData\\Anaconda3\\lib\\site-packages\\h5py\\__init__.py:36: FutureWarning: Conversion of the second argument of issubdtype from `float` to `np.floating` is deprecated. In future, it will be treated as `np.float64 == np.dtype(float).type`.\n",
      "  from ._conv import register_converters as _register_converters\n",
      "Using TensorFlow backend.\n"
     ]
    }
   ],
   "source": [
    "[X_train, Y_train] = generate_dataset_classification(300, 20)\n",
    "import keras"
   ]
  },
  {
   "cell_type": "code",
   "execution_count": 4,
   "metadata": {},
   "outputs": [],
   "source": [
    "from keras.models import Sequential"
   ]
  },
  {
   "cell_type": "code",
   "execution_count": 5,
   "metadata": {},
   "outputs": [],
   "source": [
    "from keras.layers import Dense, Activation"
   ]
  },
  {
   "cell_type": "code",
   "execution_count": 6,
   "metadata": {},
   "outputs": [
    {
     "name": "stdout",
     "output_type": "stream",
     "text": [
      "(300, 5184)\n"
     ]
    }
   ],
   "source": [
    "print(X_train.shape)"
   ]
  },
  {
   "cell_type": "code",
   "execution_count": 7,
   "metadata": {},
   "outputs": [
    {
     "name": "stdout",
     "output_type": "stream",
     "text": [
      "(300,)\n",
      "[2. 0. 0.]\n"
     ]
    }
   ],
   "source": [
    "print(Y_train.shape) \n",
    "print(Y_train[0:3])"
   ]
  },
  {
   "cell_type": "code",
   "execution_count": 8,
   "metadata": {},
   "outputs": [
    {
     "name": "stdout",
     "output_type": "stream",
     "text": [
      "[0. 0. 1.]\n"
     ]
    }
   ],
   "source": [
    "from keras.utils import np_utils \n",
    "Y_train = np_utils.to_categorical(Y_train, 3) \n",
    "print(Y_train[0])"
   ]
  },
  {
   "cell_type": "code",
   "execution_count": 9,
   "metadata": {},
   "outputs": [
    {
     "name": "stdout",
     "output_type": "stream",
     "text": [
      "Epoch 1/20\n",
      "300/300 [==============================] - 0s 1ms/step - loss: 0.2093\n",
      "Epoch 2/20\n",
      "300/300 [==============================] - 0s 173us/step - loss: 0.1730\n",
      "Epoch 3/20\n",
      "300/300 [==============================] - 0s 183us/step - loss: 0.1382\n",
      "Epoch 4/20\n",
      "300/300 [==============================] - 0s 156us/step - loss: 0.1135\n",
      "Epoch 5/20\n",
      "300/300 [==============================] - 0s 163us/step - loss: 0.1102\n",
      "Epoch 6/20\n",
      "300/300 [==============================] - 0s 170us/step - loss: 0.0925\n",
      "Epoch 7/20\n",
      "300/300 [==============================] - 0s 163us/step - loss: 0.0947\n",
      "Epoch 8/20\n",
      "300/300 [==============================] - 0s 156us/step - loss: 0.0771\n",
      "Epoch 9/20\n",
      "300/300 [==============================] - 0s 153us/step - loss: 0.0694\n",
      "Epoch 10/20\n",
      "300/300 [==============================] - 0s 189us/step - loss: 0.0551\n",
      "Epoch 11/20\n",
      "300/300 [==============================] - 0s 176us/step - loss: 0.0642\n",
      "Epoch 12/20\n",
      "300/300 [==============================] - 0s 236us/step - loss: 0.0527\n",
      "Epoch 13/20\n",
      "300/300 [==============================] - 0s 189us/step - loss: 0.0483\n",
      "Epoch 14/20\n",
      "300/300 [==============================] - 0s 349us/step - loss: 0.0319\n",
      "Epoch 15/20\n",
      "300/300 [==============================] - 0s 199us/step - loss: 0.0295\n",
      "Epoch 16/20\n",
      "300/300 [==============================] - 0s 216us/step - loss: 0.0307\n",
      "Epoch 17/20\n",
      "300/300 [==============================] - 0s 173us/step - loss: 0.0554\n",
      "Epoch 18/20\n",
      "300/300 [==============================] - 0s 176us/step - loss: 0.0716\n",
      "Epoch 19/20\n",
      "300/300 [==============================] - 0s 180us/step - loss: 0.0488\n",
      "Epoch 20/20\n",
      "300/300 [==============================] - 0s 183us/step - loss: 0.0279\n",
      "(None, 3)\n"
     ]
    }
   ],
   "source": [
    "# SGD optimizer\n",
    "from keras.optimizers import SGD\n",
    "nb_neurons = 20 \n",
    "model = Sequential([Dense(nb_neurons, input_shape=(5184,)), \n",
    "                    Activation('relu')])\n",
    "model.add(Dense(nb_neurons, activation ='relu'))\n",
    "model.add(Dense(nb_neurons, activation ='relu'))\n",
    "model.add(Dense(nb_neurons, activation ='relu'))\n",
    "model.add(Dense(3, activation ='softmax')) #softmax for last layer for classification problems\n",
    "sgd = SGD(lr=0.01, decay=1e-6, momentum=0.9, nesterov=True)\n",
    "model.compile(loss='mean_squared_error', optimizer=sgd)\n",
    "model.fit(X_train, Y_train,epochs=20)\n",
    "print(model.output_shape)"
   ]
  },
  {
   "cell_type": "code",
   "execution_count": 10,
   "metadata": {},
   "outputs": [
    {
     "data": {
      "text/plain": [
       "array([[0., 1., 0.]], dtype=float32)"
      ]
     },
     "execution_count": 10,
     "metadata": {},
     "output_type": "execute_result"
    }
   ],
   "source": [
    "X_test = generate_a_disk() \n",
    "X_test = X_test.reshape(1, X_test.shape[0]) \n",
    "model.predict(X_test)\n",
    "\n"
   ]
  },
  {
   "cell_type": "code",
   "execution_count": 11,
   "metadata": {},
   "outputs": [
    {
     "data": {
      "text/plain": [
       "array([[3.859277e-06, 9.999962e-01, 0.000000e+00]], dtype=float32)"
      ]
     },
     "execution_count": 11,
     "metadata": {},
     "output_type": "execute_result"
    }
   ],
   "source": [
    "X_test = generate_a_rectangle() \n",
    "X_test = X_test.reshape(1, X_test.shape[0]) \n",
    "model.predict(X_test)"
   ]
  },
  {
   "cell_type": "code",
   "execution_count": 12,
   "metadata": {},
   "outputs": [],
   "source": [
    "# Adam optimizer\n",
    "from keras.optimizers import Adam\n",
    "adam = Adam(lr=0.001, beta_1=0.9, beta_2=0.999, \n",
    "            epsilon=None, \n",
    "            decay=0.0, \n",
    "            amsgrad=False)"
   ]
  },
  {
   "cell_type": "code",
   "execution_count": 13,
   "metadata": {},
   "outputs": [
    {
     "name": "stdout",
     "output_type": "stream",
     "text": [
      "Epoch 1/20\n",
      "300/300 [==============================] - 1s 2ms/step - loss: 0.2316\n",
      "Epoch 2/20\n",
      "300/300 [==============================] - 0s 273us/step - loss: 0.2072\n",
      "Epoch 3/20\n",
      "300/300 [==============================] - 0s 246us/step - loss: 0.1827\n",
      "Epoch 4/20\n",
      "300/300 [==============================] - 0s 263us/step - loss: 0.1560\n",
      "Epoch 5/20\n",
      "300/300 [==============================] - 0s 246us/step - loss: 0.1319\n",
      "Epoch 6/20\n",
      "300/300 [==============================] - 0s 226us/step - loss: 0.1173\n",
      "Epoch 7/20\n",
      "300/300 [==============================] - 0s 269us/step - loss: 0.1079\n",
      "Epoch 8/20\n",
      "300/300 [==============================] - 0s 246us/step - loss: 0.0926\n",
      "Epoch 9/20\n",
      "300/300 [==============================] - 0s 269us/step - loss: 0.0817\n",
      "Epoch 10/20\n",
      "300/300 [==============================] - 0s 206us/step - loss: 0.0708\n",
      "Epoch 11/20\n",
      "300/300 [==============================] - 0s 253us/step - loss: 0.0575\n",
      "Epoch 12/20\n",
      "300/300 [==============================] - 0s 226us/step - loss: 0.0463\n",
      "Epoch 13/20\n",
      "300/300 [==============================] - 0s 253us/step - loss: 0.0226\n",
      "Epoch 14/20\n",
      "300/300 [==============================] - 0s 199us/step - loss: 0.0169\n",
      "Epoch 15/20\n",
      "300/300 [==============================] - 0s 249us/step - loss: 0.0142\n",
      "Epoch 16/20\n",
      "300/300 [==============================] - 0s 229us/step - loss: 0.0164\n",
      "Epoch 17/20\n",
      "300/300 [==============================] - 0s 279us/step - loss: 0.0077\n",
      "Epoch 18/20\n",
      "300/300 [==============================] - 0s 269us/step - loss: 0.0050\n",
      "Epoch 19/20\n",
      "300/300 [==============================] - 0s 342us/step - loss: 0.0036\n",
      "Epoch 20/20\n",
      "300/300 [==============================] - 0s 186us/step - loss: 0.0027\n",
      "(None, 3)\n"
     ]
    }
   ],
   "source": [
    "nb_neurons = 20\n",
    "model_A = Sequential([Dense(nb_neurons), \n",
    "                    Activation('relu')])\n",
    "model_A.add(Dense(nb_neurons, activation='relu'))\n",
    "model_A.add(Dense(nb_neurons, activation='relu'))\n",
    "model_A.add(Dense(nb_neurons, activation='relu'))\n",
    "model_A.add(Dense(3, activation ='softmax'))\n",
    "\n",
    "model_A.compile(loss='mean_squared_error', optimizer=adam)\n",
    "model_A.fit(X_train, Y_train,epochs=20, batch_size = 32)\n",
    "print(model.output_shape)\n",
    "# looks like adam optimizer converges more slowly\n",
    "# loss function decreases slowly"
   ]
  },
  {
   "cell_type": "code",
   "execution_count": 14,
   "metadata": {},
   "outputs": [
    {
     "data": {
      "text/plain": [
       "array([[0., 1., 0.]], dtype=float32)"
      ]
     },
     "execution_count": 14,
     "metadata": {},
     "output_type": "execute_result"
    }
   ],
   "source": [
    "X_test = generate_a_disk() \n",
    "X_test = X_test.reshape(1, X_test.shape[0]) \n",
    "model_A.predict(X_test)"
   ]
  },
  {
   "cell_type": "code",
   "execution_count": 15,
   "metadata": {},
   "outputs": [
    {
     "data": {
      "text/plain": [
       "array([[0., 1., 0.]], dtype=float32)"
      ]
     },
     "execution_count": 15,
     "metadata": {},
     "output_type": "execute_result"
    }
   ],
   "source": [
    "X_test = generate_a_rectangle() \n",
    "X_test = X_test.reshape(1, X_test.shape[0]) \n",
    "model_A.predict(X_test)"
   ]
  },
  {
   "cell_type": "markdown",
   "metadata": {},
   "source": [
    "# 4 Visualization of the Solution"
   ]
  },
  {
   "cell_type": "code",
   "execution_count": 16,
   "metadata": {},
   "outputs": [
    {
     "data": {
      "text/plain": [
       "[array([[ 0.01399912, -0.02514562,  0.01415186, ..., -0.02607337,\n",
       "         -0.00962554, -0.00324709],\n",
       "        [ 0.02725965,  0.03026386, -0.01884223, ..., -0.0054867 ,\n",
       "          0.03025042,  0.01197026],\n",
       "        [-0.01047437, -0.00751   , -0.01002556, ...,  0.03175775,\n",
       "          0.01426344, -0.00397048],\n",
       "        ...,\n",
       "        [-0.01490724,  0.01126152,  0.00722938, ..., -0.00154921,\n",
       "         -0.0249452 ,  0.01817229],\n",
       "        [-0.03309375,  0.00343531, -0.01934432, ..., -0.00336288,\n",
       "         -0.02040458,  0.02549145],\n",
       "        [ 0.01354894, -0.02706395, -0.0122285 , ...,  0.0144871 ,\n",
       "         -0.02843103,  0.01799215]], dtype=float32),\n",
       " array([ 0.        ,  0.        ,  0.00080521, -0.00072654,  0.00089817,\n",
       "         0.        ,  0.00294274,  0.        ,  0.00043051, -0.00080673,\n",
       "         0.00144556,  0.00083964, -0.00049572,  0.00166194,  0.00168784,\n",
       "        -0.00017782,  0.00096824,  0.00130542,  0.        ,  0.00074889],\n",
       "       dtype=float32),\n",
       " array([[-3.58724833e-01, -3.14653397e-01, -1.01748288e-01,\n",
       "         -6.58071339e-02,  3.78902614e-01,  1.70611203e-01,\n",
       "          8.16944540e-02, -6.18486404e-02,  1.21188700e-01,\n",
       "         -3.71886492e-01,  1.28533721e-01,  1.97774053e-01,\n",
       "          2.31517434e-01, -1.36479348e-01,  2.55500972e-01,\n",
       "         -2.09306017e-01, -3.80029976e-02,  1.55625224e-01,\n",
       "          2.26446927e-01,  3.02552164e-01],\n",
       "        [ 3.65661621e-01,  2.51680553e-01,  7.92481899e-02,\n",
       "          2.78723776e-01, -3.37736338e-01,  1.71824694e-02,\n",
       "         -1.92971587e-01,  9.42108333e-02,  2.12632060e-01,\n",
       "         -1.89460769e-01, -3.43436062e-01,  2.99619496e-01,\n",
       "          3.29935849e-02,  2.56820023e-01,  5.24781644e-02,\n",
       "         -2.69363821e-01, -5.43625355e-02, -2.72289604e-01,\n",
       "         -3.73550445e-01,  5.76259792e-02],\n",
       "        [-1.34322360e-01, -2.29976162e-01, -2.53886469e-02,\n",
       "         -7.53682777e-02, -3.53549778e-01,  3.91240209e-01,\n",
       "          3.20963889e-01, -2.96731770e-01, -9.30233672e-02,\n",
       "          1.81849495e-01,  1.03243060e-01, -2.94512868e-01,\n",
       "         -2.84668744e-01,  1.79230392e-01, -1.65339112e-01,\n",
       "         -1.09715015e-01,  5.56653552e-02,  1.46299213e-01,\n",
       "         -3.47994000e-01,  3.64698052e-01],\n",
       "        [ 3.45833004e-01,  4.30701286e-01, -2.85420954e-01,\n",
       "         -2.70926923e-01,  2.95245022e-01, -4.61060787e-04,\n",
       "         -2.05127701e-01, -3.79425824e-01, -2.48604760e-01,\n",
       "          2.39278272e-01, -9.33458805e-02,  3.59197438e-01,\n",
       "         -1.02453902e-01,  1.97612882e-01,  2.12011531e-01,\n",
       "         -9.87359211e-02,  2.87198454e-01,  8.56421739e-02,\n",
       "         -2.01196954e-01, -3.58524233e-01],\n",
       "        [-3.60454232e-01,  7.58442655e-02,  3.79305482e-01,\n",
       "          2.88191915e-01,  1.47148728e-01, -3.03703338e-01,\n",
       "          3.00884485e-01, -5.23431599e-02, -3.02684486e-01,\n",
       "         -3.02434206e-01,  2.48480603e-01,  4.24036980e-02,\n",
       "          2.91110516e-01,  7.50669390e-02,  1.64957762e-01,\n",
       "          9.96764377e-02,  1.75712436e-01, -3.19578737e-01,\n",
       "         -3.10437083e-01,  2.62423581e-03],\n",
       "        [ 3.39729190e-01,  1.02262348e-01,  2.57204890e-01,\n",
       "          2.70888746e-01,  7.67967999e-02,  2.59634435e-01,\n",
       "         -2.16516584e-01,  8.60862732e-02, -1.19583398e-01,\n",
       "          2.14206159e-01,  1.40774488e-01,  6.56628013e-02,\n",
       "         -1.62632465e-01, -2.61165410e-01, -1.53389126e-01,\n",
       "          1.05810851e-01, -1.08114332e-01,  3.05062234e-01,\n",
       "         -1.19437516e-01, -1.55853197e-01],\n",
       "        [-4.81792614e-02,  2.15017721e-01,  4.04763848e-01,\n",
       "          2.50937521e-01,  3.86645980e-02,  1.79225296e-01,\n",
       "         -1.42955646e-01, -1.76649377e-01, -3.65924537e-01,\n",
       "         -1.69451416e-01,  7.87012950e-02, -3.70975435e-02,\n",
       "          3.44620883e-01,  1.41547397e-01,  1.02730885e-01,\n",
       "         -1.60685003e-01, -5.67879714e-02,  1.10662602e-01,\n",
       "          3.74990672e-01,  1.26659542e-01],\n",
       "        [ 9.47488844e-02, -1.71306804e-01,  1.74482167e-02,\n",
       "          2.36038387e-01,  1.51344001e-01,  2.27547228e-01,\n",
       "         -2.02846617e-01,  3.71259034e-01,  2.50524640e-01,\n",
       "         -1.52480602e-02,  1.96540415e-01, -2.65076071e-01,\n",
       "          7.48092830e-02, -4.46273088e-02,  3.53741646e-03,\n",
       "          7.80926645e-02, -3.48819971e-01,  2.44752169e-02,\n",
       "          1.75994039e-01, -2.86564291e-01],\n",
       "        [ 1.97667971e-01, -5.50253205e-02, -2.47597232e-01,\n",
       "          4.18187538e-03,  1.39917359e-01,  3.53305012e-01,\n",
       "          9.22363400e-02,  2.00236037e-01, -1.20243438e-01,\n",
       "          3.00782502e-01,  2.83989072e-01, -2.32958093e-01,\n",
       "          3.34083200e-01,  3.75946492e-01, -2.74109021e-02,\n",
       "         -2.72863328e-01,  3.53275120e-01, -2.23226510e-02,\n",
       "          4.31388691e-02, -1.82231024e-01],\n",
       "        [-7.84697756e-02, -6.23739660e-02,  1.53188519e-02,\n",
       "          1.53959036e-01, -2.48557135e-01, -3.38160008e-01,\n",
       "          3.43527913e-01,  3.09867084e-01, -7.68738985e-02,\n",
       "          3.49757135e-01,  1.71476126e-01, -2.09462330e-01,\n",
       "          3.15266103e-01, -1.81848064e-01,  3.64814907e-01,\n",
       "         -1.07037917e-01, -1.47933751e-01,  1.81961522e-01,\n",
       "          9.78183448e-02,  1.02512211e-01],\n",
       "        [ 5.85743561e-02,  7.72057250e-02, -2.80495852e-01,\n",
       "          1.24330446e-01,  1.11568626e-02,  9.19881985e-02,\n",
       "          2.37344876e-01, -3.67090613e-01,  1.34589806e-01,\n",
       "         -3.84299457e-01,  3.66241187e-02, -6.68255389e-02,\n",
       "          3.47771883e-01, -2.02359125e-01, -6.53398037e-02,\n",
       "         -3.56103212e-01,  1.80299118e-01,  4.04484756e-02,\n",
       "         -1.11625783e-01,  1.10698164e-01],\n",
       "        [ 3.22089702e-01, -1.15365773e-01,  1.66207496e-02,\n",
       "         -3.77817273e-01,  1.90453827e-01, -3.54364306e-01,\n",
       "         -2.94376373e-01,  2.83972397e-02,  2.79856503e-01,\n",
       "         -3.60144287e-01,  7.89963081e-02,  1.82901949e-01,\n",
       "          3.94679159e-01,  2.54477739e-01,  2.05938876e-01,\n",
       "          3.33990604e-01, -3.69122267e-01,  1.95460841e-01,\n",
       "         -1.89394504e-02,  1.04428880e-01],\n",
       "        [ 1.94526523e-01, -3.33906800e-01,  3.02103251e-01,\n",
       "         -5.24758697e-02, -3.81154776e-01, -3.69708151e-01,\n",
       "         -2.27758184e-01, -2.67104924e-01, -2.94034272e-01,\n",
       "         -3.40273887e-01, -2.30618715e-01, -2.00186387e-01,\n",
       "         -6.20369315e-02,  9.74276662e-02,  3.55064243e-01,\n",
       "          2.45364726e-01, -2.01643199e-01,  6.25924170e-02,\n",
       "          3.79067600e-01,  3.98573279e-03],\n",
       "        [-5.66547923e-02,  3.48498344e-01,  3.83980051e-02,\n",
       "         -3.45398486e-02,  3.35541397e-01,  1.62040159e-01,\n",
       "          1.56271622e-01,  1.86509509e-02, -2.39659414e-01,\n",
       "          1.02761574e-01, -2.23660186e-01, -2.99773753e-01,\n",
       "          4.18614239e-01, -1.38209730e-01, -1.67644903e-01,\n",
       "          1.29901215e-01, -8.79163146e-02, -8.45872462e-02,\n",
       "          1.96635455e-01,  2.15747237e-01],\n",
       "        [-8.40466619e-02,  2.95813173e-01, -2.65472353e-01,\n",
       "         -3.55169117e-01, -2.85952896e-01, -1.60641566e-01,\n",
       "          2.84054250e-01,  1.45896018e-01, -1.78235322e-01,\n",
       "         -2.84484953e-01, -3.71499121e-01, -2.38779455e-01,\n",
       "          3.38902414e-01, -9.60579440e-02, -3.63826960e-01,\n",
       "          2.77993262e-01, -3.72487038e-01,  2.23781526e-01,\n",
       "          2.21951723e-01,  1.55538291e-01],\n",
       "        [-8.68688226e-02, -1.35973737e-01, -2.10238636e-01,\n",
       "          1.02560401e-01, -1.93602741e-01,  3.36706430e-01,\n",
       "          6.27204850e-02, -1.42053768e-01,  2.31274307e-01,\n",
       "          5.03432751e-03, -1.91963345e-01, -1.16794854e-01,\n",
       "          1.28198892e-01,  1.01008885e-01, -2.48345420e-01,\n",
       "         -2.04260603e-01, -3.43622528e-02,  1.82398304e-01,\n",
       "         -3.38578075e-01, -3.54711483e-05],\n",
       "        [ 1.32394195e-01, -3.04970205e-01,  3.22736144e-01,\n",
       "          3.51138949e-01, -2.06853636e-02,  3.90937209e-01,\n",
       "         -2.66880006e-01,  1.23608552e-01,  1.27071619e-01,\n",
       "          1.15706570e-01,  2.12483600e-01, -3.68387878e-01,\n",
       "          1.04651518e-01, -3.63602936e-01, -3.53684217e-01,\n",
       "          1.31453261e-01,  2.40917429e-01, -2.81861007e-01,\n",
       "         -1.88200876e-01, -3.06358457e-01],\n",
       "        [ 1.27188981e-01,  7.97127858e-02,  2.65711367e-01,\n",
       "         -3.41808081e-01, -3.55650410e-02,  2.50126392e-01,\n",
       "         -9.75333340e-03,  7.68675888e-03,  2.15890214e-01,\n",
       "          3.98697071e-02, -2.27611899e-01, -2.17329219e-01,\n",
       "          1.11156441e-01, -3.23853761e-01, -3.52902323e-01,\n",
       "         -1.78378284e-01,  4.12455946e-01,  2.35580504e-01,\n",
       "         -3.67480248e-01,  5.81413507e-02],\n",
       "        [-3.30530703e-02, -2.06394181e-01, -1.58619225e-01,\n",
       "          1.49842501e-01,  3.15967739e-01,  1.91323221e-01,\n",
       "          3.62546921e-01, -3.87089014e-01, -7.13599622e-02,\n",
       "         -3.44200730e-01, -1.61791146e-02, -2.19316497e-01,\n",
       "          8.82351995e-02,  3.09720278e-01, -1.98044613e-01,\n",
       "          3.51814926e-02, -2.59534150e-01, -3.87154818e-02,\n",
       "         -3.87068987e-02, -1.49821520e-01],\n",
       "        [-2.06476197e-01,  3.96754965e-02, -3.64178091e-01,\n",
       "          3.31756920e-01,  4.31437185e-03,  1.46431159e-02,\n",
       "          3.26393515e-01,  1.09706514e-01,  1.49133429e-01,\n",
       "          1.29827008e-01, -2.13071350e-02, -7.52469227e-02,\n",
       "         -2.44061098e-01, -1.15387745e-01, -2.75230378e-01,\n",
       "          2.97696084e-01, -2.42822334e-01,  3.51939708e-01,\n",
       "         -3.13310862e-01, -1.95312202e-02]], dtype=float32),\n",
       " array([ 3.7844442e-03, -9.4564003e-04,  5.0650624e-04, -1.2164676e-05,\n",
       "        -5.1793843e-03,  4.0122955e-03, -2.0620679e-03,  3.1527053e-04,\n",
       "         8.0720114e-05, -2.9836230e-03, -1.4173370e-04, -8.8552927e-04,\n",
       "         7.8048535e-05,  1.6946995e-04, -3.5019100e-04, -9.2479651e-04,\n",
       "         2.7461697e-03,  3.0715400e-03,  4.4932333e-03,  4.7506802e-03],\n",
       "       dtype=float32),\n",
       " array([[ 0.22786295, -0.32131696,  0.14218447, -0.1470535 ,  0.16242673,\n",
       "          0.14796773,  0.24550492, -0.37209752,  0.3320919 ,  0.26230448,\n",
       "          0.15804893, -0.08133203, -0.22721983, -0.06902977,  0.07336284,\n",
       "          0.15918623,  0.19371518, -0.07515846,  0.20295878,  0.34130034],\n",
       "        [ 0.02154216,  0.32930472,  0.33469883, -0.03108359,  0.3350208 ,\n",
       "          0.10609302,  0.37927985,  0.02256766,  0.21190053, -0.3744282 ,\n",
       "         -0.02633438, -0.0236004 , -0.38061664,  0.14205132,  0.24501018,\n",
       "         -0.32143098,  0.27855033,  0.09740385,  0.19193888,  0.07389966],\n",
       "        [-0.22054498, -0.23824833,  0.2886388 ,  0.29772496,  0.14320213,\n",
       "         -0.12419549,  0.06623676, -0.233376  , -0.07898746,  0.37132847,\n",
       "         -0.06042081, -0.18745875,  0.14052436, -0.36930993,  0.16306326,\n",
       "          0.33022517,  0.18565068,  0.00346436, -0.44810173,  0.4337706 ],\n",
       "        [-0.1599008 , -0.18670066,  0.329583  , -0.29787672,  0.2691346 ,\n",
       "         -0.2968773 , -0.28233016, -0.07043748, -0.08564036,  0.13166869,\n",
       "         -0.0643419 ,  0.11340553, -0.04487624, -0.17720906, -0.17789572,\n",
       "          0.12837005,  0.36672527,  0.1655423 ,  0.36644885, -0.29571462],\n",
       "        [ 0.02895275, -0.07151866, -0.33193314, -0.2467053 , -0.00100106,\n",
       "          0.2896079 ,  0.13255325,  0.285961  , -0.2865724 , -0.14013052,\n",
       "         -0.25646693,  0.09384555, -0.27777573, -0.01941171, -0.19026479,\n",
       "          0.08603788,  0.05465514,  0.28845525, -0.29114717, -0.0824532 ],\n",
       "        [-0.2578279 , -0.18098822, -0.33048224,  0.04155269,  0.3466994 ,\n",
       "         -0.26490256,  0.20812377,  0.11592496, -0.3726321 , -0.05033201,\n",
       "         -0.30151504,  0.03272128,  0.29297712,  0.10877379, -0.11002431,\n",
       "          0.22638643, -0.15314664, -0.00969402,  0.2408138 ,  0.24478567],\n",
       "        [ 0.21443665, -0.05055476,  0.04155833, -0.09495181,  0.2013194 ,\n",
       "         -0.33304316, -0.15363997,  0.26462263, -0.04874386,  0.26870352,\n",
       "         -0.13758427, -0.10123312,  0.2774332 , -0.00319266,  0.05898371,\n",
       "          0.02006867, -0.04292314,  0.23149389,  0.15502799,  0.09542881],\n",
       "        [-0.05888078, -0.23632218, -0.37443542, -0.05957821, -0.36526847,\n",
       "         -0.1323624 , -0.15859649, -0.21520528, -0.07014558, -0.12145945,\n",
       "          0.05040792, -0.03872177, -0.332873  ,  0.16459987, -0.12915738,\n",
       "          0.18120046, -0.1422285 , -0.17988472, -0.21329221, -0.16983673],\n",
       "        [-0.20689458, -0.2900947 , -0.24941821,  0.14624435, -0.03929616,\n",
       "         -0.19061974,  0.14549775,  0.1346237 , -0.07276872,  0.00074103,\n",
       "          0.02720699, -0.25132346,  0.13060318,  0.03777972, -0.02767525,\n",
       "          0.27054226,  0.3414532 , -0.33794737, -0.34531015,  0.3488362 ],\n",
       "        [-0.3587939 , -0.20751365,  0.22540718,  0.23574477,  0.26569206,\n",
       "          0.08900599,  0.11752481,  0.26729792,  0.33072725, -0.10845175,\n",
       "          0.31026483, -0.28095895,  0.16774161, -0.32673356,  0.234185  ,\n",
       "          0.25624335,  0.32498544,  0.00776006, -0.34106433,  0.06567547],\n",
       "        [ 0.2918083 ,  0.00629102,  0.0146302 ,  0.08703196, -0.34411347,\n",
       "          0.17883104,  0.37316433,  0.28948885,  0.14761871,  0.09216616,\n",
       "         -0.0096812 ,  0.31694406,  0.00180512, -0.15361115,  0.25242522,\n",
       "         -0.19649549, -0.10662524, -0.20900717, -0.07926454, -0.2776206 ],\n",
       "        [-0.18135726,  0.24227925, -0.13399161, -0.02900076, -0.00047434,\n",
       "         -0.16310105,  0.2841597 , -0.24704048,  0.2958483 , -0.00383198,\n",
       "          0.0482108 , -0.07921532,  0.33097297, -0.30310017,  0.3186164 ,\n",
       "         -0.00656076,  0.1330296 , -0.1028393 , -0.3307463 ,  0.23259577],\n",
       "        [-0.25828147,  0.41983688, -0.3591296 ,  0.0641077 ,  0.17337099,\n",
       "         -0.13047819, -0.33601752, -0.12415766,  0.09540427, -0.25530142,\n",
       "          0.15643764, -0.2288108 ,  0.21148206,  0.01851423,  0.15556316,\n",
       "          0.14081538, -0.29416522,  0.3318721 , -0.06927164, -0.17017458],\n",
       "        [-0.11663732, -0.21616547, -0.03853732, -0.31866795,  0.22588858,\n",
       "          0.27851108, -0.1918552 , -0.05525145,  0.04448051,  0.24742007,\n",
       "         -0.30907112, -0.380942  ,  0.16365936,  0.17936514,  0.3211255 ,\n",
       "          0.23887485,  0.11539231, -0.33067068,  0.33289838, -0.31184208],\n",
       "        [-0.32431716,  0.29220802, -0.19944386, -0.11888164, -0.3647015 ,\n",
       "         -0.03284827, -0.23396109, -0.05498832,  0.23591869, -0.11766276,\n",
       "         -0.00361285, -0.12859175,  0.26150227, -0.35963815,  0.06688918,\n",
       "         -0.3433822 ,  0.14542827,  0.30385748,  0.17875136, -0.02669801],\n",
       "        [ 0.2931391 ,  0.0040425 ,  0.38522232,  0.22505966, -0.31359488,\n",
       "          0.35764584, -0.264275  , -0.06972522, -0.34290716,  0.06168881,\n",
       "          0.27414173,  0.0530456 , -0.00443498,  0.13893417,  0.11842774,\n",
       "         -0.2527146 ,  0.3276799 ,  0.19705468, -0.24719274, -0.22319986],\n",
       "        [-0.31678313, -0.38381782, -0.12771101, -0.0375318 , -0.1375529 ,\n",
       "         -0.05376086, -0.10598458, -0.38070884,  0.2262716 , -0.14420767,\n",
       "         -0.19572477,  0.06427875, -0.06743828,  0.2869064 , -0.02726661,\n",
       "         -0.18742074,  0.2655857 , -0.25340062,  0.18321662,  0.26380777],\n",
       "        [-0.12993473,  0.18268882,  0.33630908, -0.15170139,  0.3080674 ,\n",
       "          0.34440437,  0.15657982,  0.22008866,  0.3793325 , -0.00393826,\n",
       "         -0.24554986,  0.22734761,  0.14051975,  0.11456696, -0.0234792 ,\n",
       "         -0.21022454, -0.14590386, -0.23512203,  0.00452049,  0.09402941],\n",
       "        [-0.15073319, -0.02463775, -0.1122393 , -0.24769217, -0.36505848,\n",
       "         -0.18643254,  0.10999522, -0.0816354 , -0.07789744,  0.20316333,\n",
       "          0.27664793, -0.17604916,  0.3602843 , -0.27464804,  0.25104952,\n",
       "          0.1723142 , -0.34039253, -0.26577073,  0.09500948, -0.15895964],\n",
       "        [ 0.23565203,  0.38089842, -0.04486934,  0.2693228 , -0.11612182,\n",
       "          0.00879569,  0.20902845,  0.30136597, -0.23989783, -0.08275655,\n",
       "         -0.14334263,  0.10600209, -0.05733434,  0.03471043,  0.378441  ,\n",
       "          0.38719136,  0.07031707,  0.03666437,  0.24553023, -0.3394727 ]],\n",
       "       dtype=float32),\n",
       " array([ 0.        , -0.00057155, -0.00078029,  0.00183979,  0.00266808,\n",
       "        -0.00425211,  0.00427466, -0.00399548,  0.00358819,  0.        ,\n",
       "         0.        ,  0.        , -0.00327885,  0.00978121, -0.00300907,\n",
       "         0.00572077, -0.01169652, -0.00742374,  0.00201331,  0.00523926],\n",
       "       dtype=float32),\n",
       " array([[ 0.22536314, -0.32710856, -0.16850911, -0.182133  , -0.16096638,\n",
       "          0.35782248,  0.0637596 ,  0.14882803,  0.30152935, -0.27818888,\n",
       "          0.19661206,  0.20804644, -0.14688984,  0.08006975,  0.22768623,\n",
       "          0.09615844, -0.2845912 , -0.15416257,  0.20847642,  0.34218425],\n",
       "        [-0.380475  , -0.37807885, -0.3226844 ,  0.17564248,  0.07794528,\n",
       "          0.01066026,  0.09467834, -0.27023128,  0.09321663, -0.04683663,\n",
       "         -0.09486597, -0.3413836 ,  0.3679891 , -0.14955567,  0.29751202,\n",
       "         -0.02585586,  0.32244596, -0.4313738 , -0.1453573 ,  0.38346028],\n",
       "        [-0.3759697 , -0.37601644, -0.3247494 , -0.33114195,  0.21223938,\n",
       "         -0.13397194,  0.37923926, -0.24070731, -0.3424329 , -0.0354318 ,\n",
       "          0.37801307,  0.36890894,  0.1435284 ,  0.19701815,  0.10878997,\n",
       "         -0.34637102,  0.29911676,  0.2563823 ,  0.20746857,  0.14907202],\n",
       "        [ 0.37443042, -0.05597653, -0.20838456, -0.31577522,  0.23920861,\n",
       "          0.33452556, -0.17861979, -0.20335425,  0.10570538, -0.04006235,\n",
       "          0.30999142,  0.28306106, -0.30195037, -0.3540667 , -0.1857304 ,\n",
       "          0.17624304,  0.26446593,  0.33993116,  0.24437457, -0.20486453],\n",
       "        [-0.19467987,  0.0740578 ,  0.03647009, -0.27279055,  0.36044827,\n",
       "         -0.16725115, -0.35837883,  0.2051375 , -0.14383055, -0.06419475,\n",
       "         -0.17352405, -0.29323423, -0.2449797 , -0.36068907, -0.2817335 ,\n",
       "          0.28143072,  0.10900114,  0.3103953 , -0.09976715,  0.19222492],\n",
       "        [ 0.21600622,  0.35589242, -0.18321024,  0.24718854,  0.20328005,\n",
       "          0.35861984, -0.3621931 , -0.12870528,  0.3541416 , -0.05661374,\n",
       "         -0.18853109, -0.21705465,  0.17627619,  0.21348417, -0.14721209,\n",
       "          0.02781213, -0.01354793, -0.39096275, -0.21014704, -0.24808362],\n",
       "        [-0.06381019, -0.20400809,  0.14065462,  0.19534445, -0.32544705,\n",
       "          0.26963866, -0.01650441, -0.3521502 ,  0.09410954, -0.36886707,\n",
       "         -0.27584174, -0.082633  , -0.09628811,  0.37939894, -0.11496732,\n",
       "          0.25550142, -0.19178246,  0.04101352,  0.08733776, -0.22929528],\n",
       "        [ 0.30843055,  0.04590648, -0.17035183, -0.24110346,  0.29878548,\n",
       "          0.07082378, -0.11422774,  0.10219313, -0.32589328, -0.08363736,\n",
       "         -0.10698462, -0.16933084,  0.2491586 ,  0.05961046,  0.11127295,\n",
       "         -0.05068993, -0.25463867,  0.20099504,  0.01839229, -0.04369784],\n",
       "        [ 0.09372238, -0.23682173,  0.29159963, -0.2456419 , -0.08483976,\n",
       "         -0.17014927, -0.31377792, -0.331669  , -0.17456684, -0.37167203,\n",
       "         -0.16770445,  0.09744085,  0.22106257, -0.3746742 ,  0.05188426,\n",
       "          0.31648868,  0.18654622,  0.20141463, -0.3808746 ,  0.23290144],\n",
       "        [ 0.2619778 ,  0.18902272,  0.11678213, -0.19880188,  0.00546196,\n",
       "          0.31519783, -0.1331436 , -0.3493828 , -0.0618867 , -0.05723113,\n",
       "          0.02583963, -0.10131708,  0.02634388,  0.04054943, -0.06826216,\n",
       "          0.3113492 , -0.25939915, -0.34927216, -0.15603927,  0.00381804],\n",
       "        [ 0.3261519 ,  0.03131995,  0.05868214,  0.13587916, -0.12513676,\n",
       "         -0.29419014,  0.12989646,  0.20856184,  0.24128824, -0.21860752,\n",
       "          0.11203027, -0.05722228,  0.02352929, -0.07704434,  0.31494194,\n",
       "         -0.10407913,  0.25640863, -0.36110017, -0.13024351, -0.02934584],\n",
       "        [-0.23718263,  0.21527636, -0.3083193 ,  0.11167106, -0.05460584,\n",
       "          0.2096327 ,  0.33084047, -0.26261154, -0.0928131 , -0.09840643,\n",
       "          0.09396401, -0.07655698, -0.36195487,  0.27387035,  0.00970134,\n",
       "          0.07556018, -0.3062775 , -0.06290242,  0.1177091 , -0.29348835],\n",
       "        [-0.24196708,  0.3300919 ,  0.00732276, -0.25130397, -0.3752769 ,\n",
       "          0.28560033, -0.17999923, -0.09921838,  0.15156615,  0.2957736 ,\n",
       "         -0.26493666,  0.31075835,  0.16877957, -0.36666   , -0.13936251,\n",
       "         -0.20980003,  0.28565043, -0.08174433, -0.3221329 ,  0.07505801],\n",
       "        [-0.04038524, -0.34968328,  0.20841402, -0.08163854,  0.09750984,\n",
       "          0.02196824,  0.04041842, -0.04681992,  0.22449857, -0.11482014,\n",
       "         -0.33286384, -0.131115  ,  0.2720857 , -0.30917946,  0.27881542,\n",
       "          0.10851657, -0.38600552,  0.21639755,  0.31829703,  0.01789567],\n",
       "        [-0.00601899, -0.15569696, -0.34734967, -0.06832999, -0.37836722,\n",
       "          0.39439455,  0.20465297,  0.01193177, -0.2404701 , -0.01377246,\n",
       "          0.055017  ,  0.06277804,  0.06539851, -0.15435334,  0.32738188,\n",
       "         -0.05739513, -0.3112777 ,  0.05816329, -0.17074095,  0.3515392 ],\n",
       "        [-0.1604972 , -0.27447787, -0.31913057,  0.32597336, -0.16969603,\n",
       "          0.31878054,  0.28732932,  0.06457209, -0.24686679, -0.26822498,\n",
       "          0.12456824, -0.1277822 , -0.05167775, -0.36879247,  0.22221453,\n",
       "         -0.44114238,  0.30738926,  0.17861512, -0.12565038, -0.16600709],\n",
       "        [ 0.0487864 ,  0.04348671,  0.09278825, -0.31626335, -0.27593344,\n",
       "         -0.26168415,  0.18587452, -0.11459016, -0.12141237, -0.01075113,\n",
       "          0.16329408, -0.07652768,  0.38290492, -0.38401118,  0.15856168,\n",
       "         -0.02162721,  0.11565977, -0.21228632,  0.34147656, -0.23018295],\n",
       "        [ 0.12887447, -0.26681015,  0.02385581,  0.2904172 ,  0.11409374,\n",
       "          0.05119523, -0.25827178,  0.38751018,  0.20839298,  0.35553738,\n",
       "          0.36620542, -0.22385179,  0.05178242,  0.30624288,  0.38174227,\n",
       "          0.06681232, -0.14931996, -0.3654659 , -0.11002824, -0.36990193],\n",
       "        [ 0.19657484, -0.19086799, -0.2970963 , -0.28363037, -0.05665616,\n",
       "          0.27127242,  0.2993515 ,  0.13355814, -0.27265036, -0.12439001,\n",
       "         -0.3177731 , -0.03902959, -0.23673506, -0.0857414 , -0.20292607,\n",
       "          0.4132079 , -0.39698285,  0.25011238, -0.19738188,  0.32980895],\n",
       "        [ 0.21627155,  0.21864843, -0.3801708 , -0.11943559, -0.15697283,\n",
       "         -0.0449438 ,  0.30059683, -0.2071311 ,  0.00187531, -0.32924622,\n",
       "          0.17884687,  0.29035458,  0.13884462, -0.061203  ,  0.1534184 ,\n",
       "         -0.22125311,  0.00231156,  0.26201376, -0.37966734, -0.30037293]],\n",
       "       dtype=float32),\n",
       " array([-0.0061295 , -0.00076264,  0.        , -0.00133298, -0.0004976 ,\n",
       "        -0.00074611,  0.        , -0.00065765,  0.        , -0.00478659,\n",
       "         0.00095667, -0.00145313,  0.0070253 ,  0.        , -0.00374946,\n",
       "         0.00109286, -0.00362014,  0.02384342,  0.        , -0.0112747 ],\n",
       "       dtype=float32),\n",
       " array([[ 0.2726003 ,  0.12261402, -0.41161335],\n",
       "        [ 0.11307135,  0.46343887, -0.28366306],\n",
       "        [-0.24270791, -0.21426183,  0.36512363],\n",
       "        [-0.21056075,  0.09634969,  0.32537773],\n",
       "        [-0.04604302,  0.03306628,  0.01695958],\n",
       "        [ 0.2979904 , -0.40915298, -0.1946508 ],\n",
       "        [ 0.17429268, -0.48918182, -0.5083953 ],\n",
       "        [ 0.18175347, -0.056717  , -0.17322241],\n",
       "        [ 0.37139595,  0.22640908,  0.16951734],\n",
       "        [-0.31509495, -0.09639941, -0.28462857],\n",
       "        [ 0.40930775, -0.18526825, -0.27548838],\n",
       "        [-0.1593341 ,  0.18350992, -0.45909914],\n",
       "        [ 0.38522297, -0.12208512, -0.47595757],\n",
       "        [ 0.1943447 ,  0.33875215,  0.04360676],\n",
       "        [-0.25634164, -0.06479176, -0.5477684 ],\n",
       "        [-0.45928127,  0.3552266 ,  0.10991108],\n",
       "        [ 0.29148754, -0.40643993, -0.47793517],\n",
       "        [-0.37175724, -0.56472605,  0.52124023],\n",
       "        [ 0.0116275 , -0.19944653, -0.10445744],\n",
       "        [-0.3140667 ,  0.10753535, -0.49708804]], dtype=float32),\n",
       " array([-0.00872325, -0.01723983,  0.02596308], dtype=float32)]"
      ]
     },
     "execution_count": 16,
     "metadata": {},
     "output_type": "execute_result"
    }
   ],
   "source": [
    "model.get_weights()"
   ]
  },
  {
   "cell_type": "code",
   "execution_count": 17,
   "metadata": {},
   "outputs": [],
   "source": [
    "weights = model.get_weights()"
   ]
  },
  {
   "cell_type": "code",
   "execution_count": 18,
   "metadata": {},
   "outputs": [
    {
     "name": "stdout",
     "output_type": "stream",
     "text": [
      "(5184, 20)\n",
      "(20,)\n",
      "(20, 20)\n",
      "(20,)\n",
      "(20, 20)\n",
      "(20,)\n",
      "(20, 20)\n",
      "(20,)\n",
      "(20, 3)\n",
      "(3,)\n"
     ]
    }
   ],
   "source": [
    "# I checked the shape\n",
    "for w in weights:\n",
    "    print(w.shape)"
   ]
  },
  {
   "cell_type": "code",
   "execution_count": 19,
   "metadata": {},
   "outputs": [
    {
     "data": {
      "text/plain": [
       "<matplotlib.image.AxesImage at 0x2726992ccf8>"
      ]
     },
     "execution_count": 19,
     "metadata": {},
     "output_type": "execute_result"
    },
    {
     "data": {
      "image/png": "[encoded data removed]",
      "text/plain": [
       "<matplotlib.figure.Figure at 0x27272569e10>"
      ]
     },
     "metadata": {},
     "output_type": "display_data"
    }
   ],
   "source": [
    "weights_A = model_A.get_weights()\n",
    "image_A = weights_A[-2]\n",
    "image = weights[-2]\n",
    "plt.imshow(image_A, cmap = cm.Greys)\n",
    "# here I visualise the last layer weights (for each model I have 20 nodes, and three classes in last layer)"
   ]
  },
  {
   "cell_type": "code",
   "execution_count": 20,
   "metadata": {},
   "outputs": [
    {
     "data": {
      "text/plain": [
       "<matplotlib.image.AxesImage at 0x27272e9db00>"
      ]
     },
     "execution_count": 20,
     "metadata": {},
     "output_type": "execute_result"
    },
    {
     "data": {
      "image/png": "[encoded data removed]",
      "text/plain": [
       "<matplotlib.figure.Figure at 0x27279479278>"
      ]
     },
     "metadata": {},
     "output_type": "display_data"
    }
   ],
   "source": [
    "plt.imshow(image, cmap = cm.Greys)\n"
   ]
  },
  {
   "cell_type": "markdown",
   "metadata": {},
   "source": [
    "# 5 more difficult Classification problem"
   ]
  },
  {
   "cell_type": "code",
   "execution_count": 21,
   "metadata": {},
   "outputs": [
    {
     "name": "stdout",
     "output_type": "stream",
     "text": [
      "Creating data:\n",
      "0\n",
      "10\n",
      "20\n",
      "30\n",
      "40\n",
      "50\n",
      "60\n",
      "70\n",
      "80\n",
      "90\n",
      "100\n",
      "110\n",
      "120\n",
      "130\n",
      "140\n",
      "150\n",
      "160\n",
      "170\n",
      "180\n",
      "190\n",
      "200\n",
      "210\n",
      "220\n",
      "230\n",
      "240\n",
      "250\n",
      "260\n",
      "270\n",
      "280\n",
      "290\n",
      "Creating data:\n",
      "0\n",
      "10\n",
      "20\n",
      "30\n",
      "40\n",
      "50\n",
      "60\n",
      "70\n",
      "80\n",
      "90\n",
      "100\n",
      "110\n",
      "120\n",
      "130\n",
      "140\n",
      "150\n",
      "160\n",
      "170\n",
      "180\n",
      "190\n",
      "200\n",
      "210\n",
      "220\n",
      "230\n",
      "240\n",
      "250\n",
      "260\n",
      "270\n",
      "280\n",
      "290\n"
     ]
    },
    {
     "data": {
      "text/plain": [
       "(300, 5184)"
      ]
     },
     "execution_count": 21,
     "metadata": {},
     "output_type": "execute_result"
    }
   ],
   "source": [
    "\n",
    "[X_train, Y_train] = generate_dataset_classification(300, 20, True)\n",
    "[X_test, Y_test] = generate_test_set_classification()\n",
    "Y_train = np_utils.to_categorical(Y_train, 3)\n",
    "X_train.shape"
   ]
  },
  {
   "cell_type": "code",
   "execution_count": 22,
   "metadata": {},
   "outputs": [
    {
     "name": "stdout",
     "output_type": "stream",
     "text": [
      "Epoch 1/10\n",
      "300/300 [==============================] - 0s 2ms/step - loss: 0.2313 - acc: 0.3200\n",
      "Epoch 2/10\n",
      "300/300 [==============================] - 0s 229us/step - loss: 0.2259 - acc: 0.3733\n",
      "Epoch 3/10\n",
      "300/300 [==============================] - 0s 206us/step - loss: 0.2229 - acc: 0.4667\n",
      "Epoch 4/10\n",
      "300/300 [==============================] - 0s 233us/step - loss: 0.2167 - acc: 0.4600\n",
      "Epoch 5/10\n",
      "300/300 [==============================] - 0s 206us/step - loss: 0.2163 - acc: 0.4567\n",
      "Epoch 6/10\n",
      "300/300 [==============================] - 0s 226us/step - loss: 0.2263 - acc: 0.3733\n",
      "Epoch 7/10\n",
      "300/300 [==============================] - 0s 193us/step - loss: 0.2313 - acc: 0.3767\n",
      "Epoch 8/10\n",
      "300/300 [==============================] - 0s 183us/step - loss: 0.2168 - acc: 0.4100\n",
      "Epoch 9/10\n",
      "300/300 [==============================] - 0s 406us/step - loss: 0.2131 - acc: 0.4133\n",
      "Epoch 10/10\n",
      "300/300 [==============================] - 0s 229us/step - loss: 0.2056 - acc: 0.4400\n"
     ]
    },
    {
     "data": {
      "text/plain": [
       "<keras.callbacks.History at 0x27204cd2320>"
      ]
     },
     "execution_count": 22,
     "metadata": {},
     "output_type": "execute_result"
    }
   ],
   "source": [
    "# I used the variable in order to be able to tune this number in each layer\n",
    "nb_neurons = 20 \n",
    "model_A_1 = Sequential([Dense(nb_neurons), \n",
    "                    Activation('relu')])\n",
    "model_A_1.add(Dense(nb_neurons, activation='relu'))\n",
    "model_A_1.add(Dense(nb_neurons, activation='relu'))\n",
    "model_A_1.add(Dense(nb_neurons, activation='relu'))\n",
    "model_A_1.add(Dense(3, activation ='softmax'))\n",
    "adam = Adam(lr=0.001, beta_1=0.9, beta_2=0.999, \n",
    "            epsilon=None, \n",
    "            decay=0.0, \n",
    "            amsgrad=False)\n",
    "model_A_1.compile(loss='mean_squared_error', optimizer=adam, metrics = ['accuracy'])\n",
    "model_A_1.fit(X_train, Y_train,epochs=10, batch_size = 32)\n"
   ]
  },
  {
   "cell_type": "code",
   "execution_count": 23,
   "metadata": {},
   "outputs": [
    {
     "name": "stdout",
     "output_type": "stream",
     "text": [
      "300/300 [==============================] - 0s 349us/step\n"
     ]
    },
    {
     "data": {
      "text/plain": [
       "[0.2127932757139206, 0.4066666666666667]"
      ]
     },
     "execution_count": 23,
     "metadata": {},
     "output_type": "execute_result"
    }
   ],
   "source": [
    "model_A_1.evaluate(X_test, Y_test)\n"
   ]
  },
  {
   "cell_type": "code",
   "execution_count": 24,
   "metadata": {},
   "outputs": [],
   "source": [
    "from keras.layers import Conv2D, MaxPooling2D, Flatten, Conv1D, BatchNormalization\n",
    "X_train = X_train.reshape(X_train.shape[0],72,72,1)\n",
    "X_test = X_test.reshape(X_test.shape[0],72,72,1)"
   ]
  },
  {
   "cell_type": "code",
   "execution_count": 25,
   "metadata": {},
   "outputs": [],
   "source": [
    "# I followed the hint in the assigment\n",
    "from keras.layers import Dropout\n",
    "model_c = Sequential()\n",
    "model_c.add(Conv2D(16, kernel_size=(5,5),input_shape = (72,72,1)))\n",
    "model_c.add(MaxPooling2D(pool_size=(4, 4)))\n",
    "model_c.add(Flatten())\n",
    "model_c.add(Dense(3, activation ='softmax'))"
   ]
  },
  {
   "cell_type": "code",
   "execution_count": 26,
   "metadata": {},
   "outputs": [],
   "source": [
    "model_c.compile(loss='categorical_crossentropy', optimizer=adam, \n",
    "                metrics = ['accuracy'])\n"
   ]
  },
  {
   "cell_type": "code",
   "execution_count": 27,
   "metadata": {},
   "outputs": [
    {
     "name": "stdout",
     "output_type": "stream",
     "text": [
      "Epoch 1/20\n",
      "300/300 [==============================] - 1s 4ms/step - loss: 1.1479 - acc: 0.3833\n",
      "Epoch 2/20\n",
      "300/300 [==============================] - 1s 3ms/step - loss: 1.0965 - acc: 0.3933\n",
      "Epoch 3/20\n",
      "300/300 [==============================] - 1s 3ms/step - loss: 0.9678 - acc: 0.4933\n",
      "Epoch 4/20\n",
      "300/300 [==============================] - 1s 3ms/step - loss: 0.8861 - acc: 0.6600\n",
      "Epoch 5/20\n",
      "300/300 [==============================] - 1s 4ms/step - loss: 0.8131 - acc: 0.7100\n",
      "Epoch 6/20\n",
      "300/300 [==============================] - 1s 3ms/step - loss: 0.7794 - acc: 0.6667\n",
      "Epoch 7/20\n",
      "300/300 [==============================] - 1s 3ms/step - loss: 0.7221 - acc: 0.7500\n",
      "Epoch 8/20\n",
      "300/300 [==============================] - 1s 3ms/step - loss: 0.6862 - acc: 0.7467\n",
      "Epoch 9/20\n",
      "300/300 [==============================] - 1s 3ms/step - loss: 0.6626 - acc: 0.7767\n",
      "Epoch 10/20\n",
      "300/300 [==============================] - 1s 3ms/step - loss: 0.6710 - acc: 0.7100\n",
      "Epoch 11/20\n",
      "300/300 [==============================] - 1s 3ms/step - loss: 0.6333 - acc: 0.7533\n",
      "Epoch 12/20\n",
      "300/300 [==============================] - 1s 3ms/step - loss: 0.5841 - acc: 0.8000\n",
      "Epoch 13/20\n",
      "300/300 [==============================] - 1s 3ms/step - loss: 0.5683 - acc: 0.8000\n",
      "Epoch 14/20\n",
      "300/300 [==============================] - 1s 3ms/step - loss: 0.5221 - acc: 0.8267\n",
      "Epoch 15/20\n",
      "300/300 [==============================] - 1s 3ms/step - loss: 0.4997 - acc: 0.8667\n",
      "Epoch 16/20\n",
      "300/300 [==============================] - 1s 3ms/step - loss: 0.4818 - acc: 0.8400\n",
      "Epoch 17/20\n",
      "300/300 [==============================] - 1s 3ms/step - loss: 0.4808 - acc: 0.8233\n",
      "Epoch 18/20\n",
      "300/300 [==============================] - 1s 3ms/step - loss: 0.4526 - acc: 0.8433\n",
      "Epoch 19/20\n",
      "300/300 [==============================] - 1s 3ms/step - loss: 0.4301 - acc: 0.8633\n",
      "Epoch 20/20\n",
      "300/300 [==============================] - 1s 3ms/step - loss: 0.4149 - acc: 0.8800\n"
     ]
    },
    {
     "data": {
      "text/plain": [
       "<keras.callbacks.History at 0x27272535a20>"
      ]
     },
     "execution_count": 27,
     "metadata": {},
     "output_type": "execute_result"
    }
   ],
   "source": [
    "model_c.fit(X_train, Y_train, epochs=20, batch_size = 32)\n",
    "# on more difficult image recognition problem, simpler convolutional network performs better than complicated sequntial with only\n",
    "# fully-connected layers\n"
   ]
  },
  {
   "cell_type": "code",
   "execution_count": 28,
   "metadata": {},
   "outputs": [
    {
     "name": "stdout",
     "output_type": "stream",
     "text": [
      "300/300 [==============================] - 1s 2ms/step\n"
     ]
    },
    {
     "data": {
      "text/plain": [
       "[0.6982684930165609, 0.7199999992052714]"
      ]
     },
     "execution_count": 28,
     "metadata": {},
     "output_type": "execute_result"
    }
   ],
   "source": [
    "model_c.evaluate(X_test, Y_test)\n",
    "# loss function is high but accuracy is also higher in this model"
   ]
  },
  {
   "cell_type": "markdown",
   "metadata": {},
   "source": [
    "# 6 regression model"
   ]
  },
  {
   "cell_type": "code",
   "execution_count": 29,
   "metadata": {},
   "outputs": [
    {
     "name": "stdout",
     "output_type": "stream",
     "text": [
      "Creating data:\n",
      "0\n",
      "10\n",
      "20\n",
      "30\n",
      "40\n",
      "50\n",
      "60\n",
      "70\n",
      "80\n",
      "90\n",
      "100\n",
      "110\n",
      "120\n",
      "130\n",
      "140\n",
      "150\n",
      "160\n",
      "170\n",
      "180\n",
      "190\n",
      "200\n",
      "210\n",
      "220\n",
      "230\n",
      "240\n",
      "250\n",
      "260\n",
      "270\n",
      "280\n",
      "290\n",
      "Creating data:\n",
      "0\n",
      "10\n",
      "20\n",
      "30\n",
      "40\n",
      "50\n",
      "60\n",
      "70\n",
      "80\n",
      "90\n",
      "100\n",
      "110\n",
      "120\n",
      "130\n",
      "140\n",
      "150\n",
      "160\n",
      "170\n",
      "180\n",
      "190\n",
      "200\n",
      "210\n",
      "220\n",
      "230\n",
      "240\n",
      "250\n",
      "260\n",
      "270\n",
      "280\n",
      "290\n"
     ]
    }
   ],
   "source": [
    "\n",
    "[X_train, Y_train] = generate_dataset_regression(300, 20)\n",
    "[X_test, Y_test] = generate_test_set_regression()\n",
    "# unfortunately, I did not manage to normalize Y and the performance of the regression network is quite poor"
   ]
  },
  {
   "cell_type": "code",
   "execution_count": 30,
   "metadata": {},
   "outputs": [],
   "source": [
    "# I started with network with fully connected layers\n",
    "nb_neurons=50\n",
    "model_regression = Sequential()\n",
    "model_regression.add(BatchNormalization())\n",
    "model_regression.add(Dense(nb_neurons,activation = 'relu', input_shape = (5184,))) \n",
    "                    \n",
    "model_regression.add(Dense(nb_neurons, activation='relu'))\n",
    "model_regression.add(Dense(nb_neurons, activation='relu'))\n",
    "model_regression.add(Dense(nb_neurons, activation='relu'))\n",
    "model_regression.add(Dense(nb_neurons, activation='relu'))\n",
    "model_regression.add(Dense(6, activation='relu'))\n",
    "model_regression.compile(loss='mean_squared_error', \n",
    "                         optimizer=sgd)"
   ]
  },
  {
   "cell_type": "code",
   "execution_count": 31,
   "metadata": {},
   "outputs": [
    {
     "name": "stdout",
     "output_type": "stream",
     "text": [
      "Epoch 1/10\n",
      "300/300 [==============================] - 1s 3ms/step - loss: 0.2341\n",
      "Epoch 2/10\n",
      "300/300 [==============================] - 0s 542us/step - loss: 0.1553\n",
      "Epoch 3/10\n",
      "300/300 [==============================] - 0s 459us/step - loss: 0.1116\n",
      "Epoch 4/10\n",
      "300/300 [==============================] - 0s 489us/step - loss: 0.0759\n",
      "Epoch 5/10\n",
      "300/300 [==============================] - 0s 765us/step - loss: 0.0647\n",
      "Epoch 6/10\n",
      "300/300 [==============================] - 0s 495us/step - loss: 0.0562\n",
      "Epoch 7/10\n",
      "300/300 [==============================] - 0s 519us/step - loss: 0.0501\n",
      "Epoch 8/10\n",
      "300/300 [==============================] - 0s 522us/step - loss: 0.0457\n",
      "Epoch 9/10\n",
      "300/300 [==============================] - 0s 482us/step - loss: 0.0427\n",
      "Epoch 10/10\n",
      "300/300 [==============================] - 0s 462us/step - loss: 0.0393\n"
     ]
    },
    {
     "data": {
      "text/plain": [
       "<keras.callbacks.History at 0x2727250c780>"
      ]
     },
     "execution_count": 31,
     "metadata": {},
     "output_type": "execute_result"
    }
   ],
   "source": [
    "model_regression.fit(X_train, Y_train,epochs = 10, batch_size = 32)"
   ]
  },
  {
   "cell_type": "code",
   "execution_count": 32,
   "metadata": {
    "scrolled": true
   },
   "outputs": [],
   "source": [
    "prediction=model_regression.predict(X_train)"
   ]
  },
  {
   "cell_type": "code",
   "execution_count": 33,
   "metadata": {},
   "outputs": [
    {
     "data": {
      "image/png": "[encoded data removed]",
      "text/plain": [
       "<matplotlib.figure.Figure at 0x27205f419e8>"
      ]
     },
     "metadata": {},
     "output_type": "display_data"
    }
   ],
   "source": [
    "visualize_prediction(X_train[10], prediction[10])"
   ]
  },
  {
   "cell_type": "code",
   "execution_count": 34,
   "metadata": {},
   "outputs": [],
   "source": [
    "X_train = X_train.reshape(X_train.shape[0],72,72,1)\n",
    "X_test = X_test.reshape(X_test.shape[0],72,72,1)"
   ]
  },
  {
   "cell_type": "code",
   "execution_count": 35,
   "metadata": {},
   "outputs": [
    {
     "name": "stdout",
     "output_type": "stream",
     "text": [
      "Epoch 1/25\n",
      "300/300 [==============================] - 8s 25ms/step - loss: 0.2217\n",
      "Epoch 2/25\n",
      "300/300 [==============================] - 6s 19ms/step - loss: 0.1602\n",
      "Epoch 3/25\n",
      "300/300 [==============================] - 6s 19ms/step - loss: 0.1325\n",
      "Epoch 4/25\n",
      "300/300 [==============================] - 6s 21ms/step - loss: 0.0990\n",
      "Epoch 5/25\n",
      "300/300 [==============================] - 6s 20ms/step - loss: 0.0776\n",
      "Epoch 6/25\n",
      "300/300 [==============================] - 6s 20ms/step - loss: 0.0672\n",
      "Epoch 7/25\n",
      "300/300 [==============================] - 6s 20ms/step - loss: 0.0633\n",
      "Epoch 8/25\n",
      "300/300 [==============================] - 6s 20ms/step - loss: 0.0600\n",
      "Epoch 9/25\n",
      "300/300 [==============================] - 6s 21ms/step - loss: 0.0555\n",
      "Epoch 10/25\n",
      "300/300 [==============================] - 6s 20ms/step - loss: 0.0540\n",
      "Epoch 11/25\n",
      "300/300 [==============================] - 6s 21ms/step - loss: 0.0500\n",
      "Epoch 12/25\n",
      "300/300 [==============================] - 7s 24ms/step - loss: 0.0485\n",
      "Epoch 13/25\n",
      "300/300 [==============================] - 6s 20ms/step - loss: 0.0480\n",
      "Epoch 14/25\n",
      "300/300 [==============================] - 6s 21ms/step - loss: 0.0468\n",
      "Epoch 15/25\n",
      "300/300 [==============================] - 6s 20ms/step - loss: 0.0441\n",
      "Epoch 16/25\n",
      "300/300 [==============================] - 6s 21ms/step - loss: 0.0435\n",
      "Epoch 17/25\n",
      "300/300 [==============================] - 6s 20ms/step - loss: 0.0430\n",
      "Epoch 18/25\n",
      "300/300 [==============================] - 6s 19ms/step - loss: 0.0415\n",
      "Epoch 19/25\n",
      "300/300 [==============================] - 6s 19ms/step - loss: 0.0422\n",
      "Epoch 20/25\n",
      "300/300 [==============================] - 6s 20ms/step - loss: 0.0403\n",
      "Epoch 21/25\n",
      "300/300 [==============================] - 6s 20ms/step - loss: 0.0395\n",
      "Epoch 22/25\n",
      "300/300 [==============================] - 6s 21ms/step - loss: 0.0377\n",
      "Epoch 23/25\n",
      "300/300 [==============================] - 6s 21ms/step - loss: 0.0371\n",
      "Epoch 24/25\n",
      "300/300 [==============================] - 6s 21ms/step - loss: 0.0358\n",
      "Epoch 25/25\n",
      "300/300 [==============================] - 6s 21ms/step - loss: 0.0347\n"
     ]
    },
    {
     "data": {
      "text/plain": [
       "<keras.callbacks.History at 0x2720608e9b0>"
      ]
     },
     "execution_count": 35,
     "metadata": {},
     "output_type": "execute_result"
    }
   ],
   "source": [
    "model_regression = Sequential()\n",
    "model_regression.add(BatchNormalization())\n",
    "model_regression.add(Conv2D(32, kernel_size=(5,5), input_shape = (72,72,1)))\n",
    "model_regression.add(MaxPooling2D(pool_size=(4, 4)))\n",
    "model_regression.add(Conv2D(64, kernel_size=(5,5)))\n",
    "model_regression.add(MaxPooling2D(pool_size=(2, 2)))\n",
    "model_regression.add(Conv2D(128, kernel_size=(5,5)))\n",
    "model_regression.add(MaxPooling2D(pool_size=(1, 1)))\n",
    "model_regression.add(Flatten())\n",
    "model_regression.add(BatchNormalization())\n",
    "model_regression.add(Dense(20, activation ='relu'))\n",
    "model_regression.add(Dense(20, activation ='relu'))\n",
    "model_regression.add(Dense(20, activation ='relu'))\n",
    "model_regression.add(Dense(6, activation ='relu'))\n",
    "model_regression.compile(loss='mean_squared_error', optimizer=sgd)\n",
    "model_regression.fit(X_train, Y_train, epochs = 25)\n",
    "# I tried to overcome the problem of abscence of normalization by increasing the compexity of network, but it did not work well"
   ]
  },
  {
   "cell_type": "code",
   "execution_count": 36,
   "metadata": {},
   "outputs": [],
   "source": [
    "prediction=model_regression.predict(X_train)"
   ]
  },
  {
   "cell_type": "code",
   "execution_count": 37,
   "metadata": {},
   "outputs": [
    {
     "data": {
      "image/png": "[encoded data removed]",
      "text/plain": [
       "<matplotlib.figure.Figure at 0x27272508eb8>"
      ]
     },
     "metadata": {},
     "output_type": "display_data"
    }
   ],
   "source": [
    "visualize_prediction(X_train[210], prediction[210])"
   ]
  },
  {
   "cell_type": "code",
   "execution_count": 38,
   "metadata": {},
   "outputs": [
    {
     "name": "stdout",
     "output_type": "stream",
     "text": [
      "300/300 [==============================] - 1s 3ms/step\n"
     ]
    },
    {
     "data": {
      "text/plain": [
       "0.07957050889730453"
      ]
     },
     "execution_count": 38,
     "metadata": {},
     "output_type": "execute_result"
    }
   ],
   "source": [
    "model_regression.evaluate(X_test, Y_test)"
   ]
  },
  {
   "cell_type": "markdown",
   "metadata": {},
   "source": [
    "# 7 image denosing"
   ]
  },
  {
   "cell_type": "code",
   "execution_count": 39,
   "metadata": {},
   "outputs": [],
   "source": [
    "\n",
    "# I modified last function adding noise 100\n",
    "randy = 100\n",
    "def generate_dataset_classification_with_noise(nb_samples, noise=randy, free_location=False):\n",
    "    # Getting im_size:\n",
    "    im_size = generate_a_rectangle().shape[0]\n",
    "    X = np.zeros([nb_samples,im_size])\n",
    "    X_with_noise = np.zeros([nb_samples,im_size])\n",
    "    Y = np.zeros(nb_samples)\n",
    "    print('Creating data:')\n",
    "    for i in range(nb_samples):\n",
    "        if i % 10 == 0:\n",
    "            print(i)\n",
    "        category = np.random.randint(3)\n",
    "        if category == 0:\n",
    "            X_with_noise[i] = generate_a_rectangle(noise, free_location)\n",
    "            X[i] = generate_a_rectangle(free_location)\n",
    "        elif category == 1: \n",
    "            X[i] = generate_a_disk(free_location)\n",
    "            X_with_noise[i] = generate_a_disk(noise, free_location)\n",
    "        else:\n",
    "            [X[i], V] = generate_a_triangle(free_location)\n",
    "            [X_with_noise[i], V] = generate_a_triangle(noise, free_location)\n",
    "        Y[i] = category\n",
    "    X= (X) / (255)\n",
    "    X_with_noize= (X_with_noise + noise) / (255 + 2 * noise)\n",
    "    return [X, X_with_noize, Y]\n",
    "\n"
   ]
  },
  {
   "cell_type": "code",
   "execution_count": 40,
   "metadata": {},
   "outputs": [
    {
     "name": "stdout",
     "output_type": "stream",
     "text": [
      "Creating data:\n",
      "0\n",
      "10\n",
      "20\n",
      "30\n",
      "40\n",
      "50\n",
      "60\n",
      "70\n",
      "80\n",
      "90\n",
      "100\n",
      "110\n",
      "120\n",
      "130\n",
      "140\n",
      "150\n",
      "160\n",
      "170\n",
      "180\n",
      "190\n",
      "200\n",
      "210\n",
      "220\n",
      "230\n",
      "240\n",
      "250\n",
      "260\n",
      "270\n",
      "280\n",
      "290\n"
     ]
    }
   ],
   "source": [
    "[X,X_with_noise,Y]=generate_dataset_classification_with_noise(300)\n",
    "X = X.reshape(X.shape[0],72,72,1)\n",
    "X_with_noise = X_with_noise.reshape(X_with_noise.shape[0],72,72,1)"
   ]
  },
  {
   "cell_type": "code",
   "execution_count": 41,
   "metadata": {},
   "outputs": [
    {
     "data": {
      "text/plain": [
       "<matplotlib.image.AxesImage at 0x2720f4603c8>"
      ]
     },
     "execution_count": 41,
     "metadata": {},
     "output_type": "execute_result"
    },
    {
     "data": {
      "image/png": "[encoded data removed]",
      "text/plain": [
       "<matplotlib.figure.Figure at 0x2720b14cb38>"
      ]
     },
     "metadata": {},
     "output_type": "display_data"
    }
   ],
   "source": [
    "plt.imshow(X_with_noise[20].reshape(72,72)) # check the noise generation"
   ]
  },
  {
   "cell_type": "code",
   "execution_count": 42,
   "metadata": {},
   "outputs": [],
   "source": [
    "from keras.layers import UpSampling2D\n",
    "# I tried several different paramters probably, I have built too complicated network, using the pattern from the \n",
    "# the lectures, but accuracy of the loss is quite low\n",
    "model_C_1 = Sequential()\n",
    "model_C_1.add(Conv2D(32, kernel_size = 3, activation='relu', \n",
    "                     input_shape=(72,72,1), \n",
    "                     padding='same'))\n",
    "model_C_1.add(BatchNormalization())\n",
    "model_C_1.add(Conv2D(32, kernel_size = 3, activation='relu', \n",
    "                     input_shape=(72,72,1), \n",
    "                     padding='same'))\n",
    "model_C_1.add(MaxPooling2D((2), padding = 'same'))\n",
    "model_C_1.add(Conv2D(64, kernel_size = 3, \n",
    "                     activation='relu', \n",
    "                     input_shape=(72,72,1),\n",
    "                     batch_size = 32, \n",
    "                     padding='same'))\n",
    "model_C_1.add(BatchNormalization())\n",
    "model_C_1.add(Conv2D(64, kernel_size = 3, \n",
    "                     activation='relu', \n",
    "                     input_shape=(72,72,1),\n",
    "                     batch_size = 32, \n",
    "                     padding='same'))\n",
    "model_C_1.add(BatchNormalization())\n",
    "model_C_1.add(MaxPooling2D((2), \n",
    "                           padding = 'same'))\n",
    "model_C_1.add(Conv2D(128, \n",
    "                     kernel_size = 3, \n",
    "                     activation='relu',\n",
    "                     input_shape=(72,72,1),\n",
    "                     batch_size =32, \n",
    "                     padding='same'))\n",
    "model_C_1.add(BatchNormalization())\n",
    "model_C_1.add(Conv2D(128, \n",
    "                     kernel_size = 3, \n",
    "                     activation='relu',\n",
    "                     input_shape=(72,72,1),\n",
    "                     batch_size =32, \n",
    "                     padding='same'))\n",
    "model_C_1.add(BatchNormalization())\n",
    "model_C_1.add(MaxPooling2D((2), \n",
    "                           padding = 'same'))\n",
    "model_C_1.add(UpSampling2D(size = (2,2)))\n",
    "model_C_1.add(Conv2D(128, \n",
    "                     kernel_size = 2, \n",
    "                     activation='relu', \n",
    "                     batch_size =32, \n",
    "                     padding='same'))\n",
    "model_C_1.add(BatchNormalization())\n",
    "model_C_1.add(Conv2D(128, \n",
    "                     kernel_size = 3, \n",
    "                     activation='relu', \n",
    "                     batch_size =32, \n",
    "                     padding='same'))\n",
    "model_C_1.add(BatchNormalization())\n",
    "model_C_1.add(UpSampling2D(size = (2,2)))\n",
    "model_C_1.add(Conv2D(64, \n",
    "                     kernel_size = 2, \n",
    "                     activation='relu', \n",
    "                     batch_size =32, \n",
    "                     padding='same'))\n",
    "model_C_1.add(BatchNormalization())\n",
    "model_C_1.add(Conv2D(64, \n",
    "                     kernel_size = 3, \n",
    "                     activation='relu', \n",
    "                     batch_size =32, \n",
    "                     padding='same'))\n",
    "model_C_1.add(BatchNormalization())\n",
    "model_C_1.add(UpSampling2D(size = (2,2)))\n",
    "model_C_1.add(Conv2D(32, \n",
    "                     kernel_size = 2, \n",
    "                     activation='relu', \n",
    "                     batch_size =32, \n",
    "                     padding='same'))\n",
    "model_C_1.add(BatchNormalization())\n",
    "model_C_1.add(Conv2D(32, \n",
    "                     kernel_size = 3, \n",
    "                     activation='relu', \n",
    "                     batch_size =32, \n",
    "                     padding='same'))\n",
    "model_C_1.add(BatchNormalization())\n",
    "model_C_1.add(Conv2D(1, \n",
    "                     kernel_size = 3, \n",
    "                     activation='softmax', \n",
    "                     batch_size =32, \n",
    "                     padding='same'))\n",
    "\n",
    "model_C_1.compile(loss='mean_squared_error', optimizer=adam, \n",
    "                metrics = ['accuracy'])"
   ]
  },
  {
   "cell_type": "code",
   "execution_count": 43,
   "metadata": {},
   "outputs": [
    {
     "name": "stdout",
     "output_type": "stream",
     "text": [
      "Epoch 1/10\n",
      "300/300 [==============================] - 88s 292ms/step - loss: 0.2226 - acc: 0.7774\n",
      "Epoch 2/10\n",
      "300/300 [==============================] - 81s 271ms/step - loss: 0.2226 - acc: 0.7774\n",
      "Epoch 3/10\n",
      "300/300 [==============================] - 82s 274ms/step - loss: 0.2226 - acc: 0.7774\n",
      "Epoch 4/10\n",
      "300/300 [==============================] - 81s 271ms/step - loss: 0.2226 - acc: 0.7774\n",
      "Epoch 5/10\n",
      "300/300 [==============================] - 81s 271ms/step - loss: 0.2226 - acc: 0.7774\n",
      "Epoch 6/10\n",
      "300/300 [==============================] - 83s 275ms/step - loss: 0.2226 - acc: 0.7774\n",
      "Epoch 7/10\n",
      "300/300 [==============================] - 84s 281ms/step - loss: 0.2226 - acc: 0.7774\n",
      "Epoch 8/10\n",
      "300/300 [==============================] - 81s 270ms/step - loss: 0.2226 - acc: 0.7774\n",
      "Epoch 9/10\n",
      "300/300 [==============================] - 82s 273ms/step - loss: 0.2226 - acc: 0.7774\n",
      "Epoch 10/10\n",
      "300/300 [==============================] - 81s 271ms/step - loss: 0.2226 - acc: 0.7774\n"
     ]
    },
    {
     "data": {
      "text/plain": [
       "<keras.callbacks.History at 0x2720f47d710>"
      ]
     },
     "execution_count": 43,
     "metadata": {},
     "output_type": "execute_result"
    }
   ],
   "source": [
    "model_C_1.fit(X_with_noise,X, epochs = 10)"
   ]
  }
 ],
 "metadata": {
  "kernelspec": {
   "display_name": "Python 3",
   "language": "python",
   "name": "python3"
  },
  "language_info": {
   "codemirror_mode": {
    "name": "ipython",
    "version": 3
   },
   "file_extension": ".py",
   "mimetype": "text/x-python",
   "name": "python",
   "nbconvert_exporter": "python",
   "pygments_lexer": "ipython3",
   "version": "3.6.4"
  }
 },
 "nbformat": 4,
 "nbformat_minor": 2
}
