{
 "cells": [
  {
   "cell_type": "markdown",
   "metadata": {},
   "source": [
    "**You may need to install [OpenCV](https://pypi.python.org/pypi/opencv-python) and [scikit-video](http://www.scikit-video.org/stable/).**"
   ]
  },
  {
   "cell_type": "code",
   "execution_count": 1,
   "metadata": {},
   "outputs": [
    {
     "name": "stderr",
     "output_type": "stream",
     "text": [
      "Using TensorFlow backend.\n"
     ]
    }
   ],
   "source": [
    "import keras\n",
    "import numpy as np\n",
    "import io\n",
    "import base64\n",
    "from IPython.display import HTML\n",
    "import cv2\n",
    "import json\n",
    "\n",
    "from keras.models import Sequential,model_from_json\n",
    "from keras.layers.core import Dense, Flatten\n",
    "from keras.optimizers import sgd, Adam\n",
    "from keras.layers import Conv2D, MaxPooling2D, Activation, AveragePooling2D,Reshape,BatchNormalization"
   ]
  },
  {
   "cell_type": "code",
   "execution_count": 2,
   "metadata": {},
   "outputs": [],
   "source": [
    "import skvideo\n",
    "skvideo.setFFmpegPath(\"C:\\\\FFmpeg\\\\bin\")"
   ]
  },
  {
   "cell_type": "code",
   "execution_count": 3,
   "metadata": {},
   "outputs": [],
   "source": [
    "import skvideo.io"
   ]
  },
  {
   "cell_type": "markdown",
   "metadata": {},
   "source": [
    "# MiniProject #3: Deep Reinforcement Learning"
   ]
  },
  {
   "cell_type": "markdown",
   "metadata": {},
   "source": [
    "__Notations__: $E_p$ is the expectation under probability $p$. Please justify each of your answer and widely comment your code."
   ]
  },
  {
   "cell_type": "markdown",
   "metadata": {},
   "source": [
    "# Context"
   ]
  },
  {
   "cell_type": "markdown",
   "metadata": {},
   "source": [
    "In a reinforcement learning algorithm, we modelize each step $t$ as an action $a_t$ obtained from a state $s_t$, i.e. $\\{(a_{t},s_{t})_{t\\leq T}\\}$ having the Markov property. We consider a discount factor $\\gamma \\in [0,1]$ that ensures convergence. The goal is to find among all the policies $\\pi$, one that maximizes the expected reward:\n",
    "\n",
    "\\begin{equation*}\n",
    "R(\\pi)=\\sum_{t\\leq T}E_{p^{\\pi}}[\\gamma^t r(s_{t},a_{t})] \\> ,\n",
    "\\end{equation*}\n",
    "\n",
    "where: \n",
    "\\begin{equation*}p^{\\pi}(a_{0},a_{1},s_{1},...,a_{T},s_{T})=p(a_{0})\\prod_{t=1}^{T}\\pi(a_{t}|s_{t})p(s_{t+1}|s_{t},a_{t}) \\> .\n",
    "\\end{equation*}\n",
    "\n",
    "We note the $Q$-function:\n",
    "\n",
    "\\begin{equation*}Q^\\pi(s,a)=E_{p^{\\pi}}[\\sum_{t\\leq T}\\gamma^{t}r(s_{t},a_{t})|s_{0}=s,a_{0}=a] \\> .\n",
    "\\end{equation*}\n",
    "\n",
    "Thus, the optimal Q function is:\n",
    "\\begin{equation*}\n",
    "Q^*(s,a)=\\max_{\\pi}Q^\\pi(s,a) \\> .\n",
    "\\end{equation*}\n",
    "\n",
    "In this project, we will apply the deep reinforcement learning techniques to a simple game: an agent will have to learn from scratch a policy that will permit it maximizing a reward."
   ]
  },
  {
   "cell_type": "markdown",
   "metadata": {},
   "source": [
    "## The environment, the agent and the game"
   ]
  },
  {
   "cell_type": "markdown",
   "metadata": {},
   "source": [
    "### The environment"
   ]
  },
  {
   "cell_type": "markdown",
   "metadata": {},
   "source": [
    "```Environment``` is an abstract class that represents the states, rewards, and actions to obtain the new state."
   ]
  },
  {
   "cell_type": "code",
   "execution_count": 4,
   "metadata": {},
   "outputs": [],
   "source": [
    "class Environment(object):\n",
    "    def __init__(self):\n",
    "        pass\n",
    "\n",
    "    def act(self, act):\n",
    "        \"\"\"\n",
    "        One can act on the environment and obtain its reaction:\n",
    "        - the new state\n",
    "        - the reward of the new state\n",
    "        - should we continue the game?\n",
    "\n",
    "        :return: state, reward, game_over\n",
    "        \"\"\"\n",
    "        pass\n",
    "\n",
    "\n",
    "    def reset(self):\n",
    "        \"\"\"\n",
    "        Reinitialize the environment to a random state and returns\n",
    "        the original state\n",
    "\n",
    "        :return: state\n",
    "        \"\"\"\n",
    "        pass\n",
    "    \n",
    "    def draw(self):\n",
    "        \"\"\"\n",
    "        Visualize in the console or graphically the current state\n",
    "        \"\"\"\n",
    "        pass"
   ]
  },
  {
   "cell_type": "markdown",
   "metadata": {},
   "source": [
    "The method ```act``` allows to act on the environment at a given state $s_t$ (stored internally), via action $a_t$. The method will return the new state $s_{t+1}$, the reward $r(s_{t},a_{t})$ and determines if $t\\leq T$ (*game_over*).\n",
    "\n",
    "The method ```reset``` simply reinitializes the environment to a random state $s_0$.\n",
    "\n",
    "The method ```draw``` displays the current state $s_t$ (this is useful to check the behavior of the Agent).\n",
    "\n",
    "We modelize $s_t$ as a tensor, while $a_t$ is an integer."
   ]
  },
  {
   "cell_type": "markdown",
   "metadata": {},
   "source": [
    "### The Agent"
   ]
  },
  {
   "cell_type": "markdown",
   "metadata": {},
   "source": [
    "The goal of the ```Agent``` is to interact with the ```Environment``` by proposing actions $a_t$ obtained from a given state $s_t$ to attempt to maximize its __reward__ $r(s_t,a_t)$. We propose the following abstract class:"
   ]
  },
  {
   "cell_type": "code",
   "execution_count": 5,
   "metadata": {},
   "outputs": [],
   "source": [
    "class Agent(object):\n",
    "    def __init__(self, epsilon=0.1, n_action=4):\n",
    "        self.epsilon = epsilon\n",
    "        self.n_action = n_action\n",
    "    \n",
    "    def set_epsilon(self,e):\n",
    "        self.epsilon = e\n",
    "\n",
    "    def act(self,s,train=True):\n",
    "        \"\"\" This function should return the next action to do:\n",
    "        an integer between 0 and 4 (not included) with a random exploration of epsilon\"\"\"\n",
    "        if train:\n",
    "            if np.random.rand() <= self.epsilon:\n",
    "                a = np.random.randint(0, self.n_action, size=1)[0]\n",
    "            else:\n",
    "                a = self.learned_act(s)\n",
    "        else: # in some cases, this can improve the performance.. remove it if poor performances\n",
    "            a = self.learned_act(s)\n",
    "\n",
    "        return a\n",
    "\n",
    "    def learned_act(self,s):\n",
    "        \"\"\" Act via the policy of the agent, from a given state s\n",
    "        it proposes an action a\"\"\"\n",
    "        pass\n",
    "\n",
    "    def reinforce(self, s, n_s, a, r, game_over_):\n",
    "        \"\"\" This function is the core of the learning algorithm. \n",
    "        It takes as an input the current state s_, the next state n_s_\n",
    "        the action a_ used to move from s_ to n_s_ and the reward r_.\n",
    "        \n",
    "        Its goal is to learn a policy.\n",
    "        \"\"\"\n",
    "        pass\n",
    "\n",
    "    def save(self):\n",
    "        \"\"\" This function returns basic stats if applicable: the\n",
    "        loss and/or the model\"\"\"\n",
    "        pass\n",
    "\n",
    "    def load(self):\n",
    "        \"\"\" This function allows to restore a model\"\"\"\n",
    "        pass"
   ]
  },
  {
   "cell_type": "markdown",
   "metadata": {},
   "source": [
    "***\n",
    "__Question 1__:\n",
    "Explain the function act. Why is ```epsilon``` essential?"
   ]
  },
  {
   "cell_type": "markdown",
   "metadata": {},
   "source": [
    "###(you can use Markdown and Latex)\n",
    "1.1 The function act performed took decsions among 4 alternatives, based on the current state. In order to avoid the overfit of the model, some randomness is introduced. Contrary to other classical ML tasks our model continues to learn even during perfomance. It refers also to the function learnt act which choose the action according to the state. In term of randomness we have random action also in the funtion act, which introduced when a specific conditions are met.\n",
    "1.2 Such result is achieved by parameter epsilon, which is accounted to the introduction of randomness, if a random number is less than $\\epsilon$ then agent take a random action in order to explore enviornment. As the process of recieving the reward might be stochastic, taking the same action might lead to different result, and, which is more important, the result could have a mathematical expectation, but because of low number of observation we can not extract the true value of this expectation (may be, by chance the true reward is 1 of this action at specific state, meanwhile, by chance we recieved only zero in the same situation in the past, so we give up this action and lose much reward). "
   ]
  },
  {
   "cell_type": "markdown",
   "metadata": {},
   "source": [
    "***\n",
    "### The Game"
   ]
  },
  {
   "cell_type": "markdown",
   "metadata": {},
   "source": [
    "The ```Agent``` and the ```Environment``` work in an interlaced way as in the following (take some time to understand this code as it is the core of the project)\n",
    "\n",
    "```python\n",
    "\n",
    "epoch = 300\n",
    "env = Environment()\n",
    "agent = Agent()\n",
    "\n",
    "\n",
    "# Number of won games\n",
    "score = 0\n",
    "loss = 0\n",
    "\n",
    "\n",
    "for e in range(epoch):\n",
    "    # At each epoch, we restart to a fresh game and get the initial state\n",
    "    state = env.reset()\n",
    "    # This assumes that the games will end\n",
    "    game_over = False\n",
    "\n",
    "    win = 0\n",
    "    lose = 0\n",
    "    \n",
    "    while not game_over:\n",
    "        # The agent performs an action\n",
    "        action = agent.act(state)\n",
    "\n",
    "        # Apply an action to the environment, get the next state, the reward\n",
    "        # and if the games end\n",
    "        prev_state = state\n",
    "        state, reward, game_over = env.act(action)\n",
    "\n",
    "        # Update the counters\n",
    "        if reward > 0:\n",
    "            win = win + reward\n",
    "        if reward < 0:\n",
    "            lose = lose -reward\n",
    "\n",
    "        # Apply the reinforcement strategy\n",
    "        loss = agent.reinforce(prev_state, state,  action, reward, game_over)\n",
    "\n",
    "    # Save as a mp4\n",
    "    if e % 10 == 0:\n",
    "        env.draw(e)\n",
    "\n",
    "    # Update stats\n",
    "    score += win-lose\n",
    "\n",
    "    print(\"Epoch {:03d}/{:03d} | Loss {:.4f} | Win/lose count {}/{} ({})\"\n",
    "          .format(e, epoch, loss, win, lose, win-lose))\n",
    "    agent.save()\n",
    "```"
   ]
  },
  {
   "cell_type": "markdown",
   "metadata": {},
   "source": [
    "# The game, *eat cheese*"
   ]
  },
  {
   "cell_type": "markdown",
   "metadata": {},
   "source": [
    "A rat runs on an island and tries to eat as much as possible. The island is subdivided into $N\\times N$ cells, in which there are cheese (+0.5) and poisonous cells (-1). The rat has a visibility of 2 cells (thus it can see $5^2$ cells). The rat is given a time $T$ to accumulate as much food as possible. It can perform 4 actions: going up, down, left, right. \n",
    "\n",
    "The goal is to code an agent to solve this task that will learn by trial and error. We propose the following environment:"
   ]
  },
  {
   "cell_type": "code",
   "execution_count": 6,
   "metadata": {},
   "outputs": [],
   "source": [
    "class Environment(object):\n",
    "    def __init__(self, grid_size=10, max_time=500, temperature=0.1):\n",
    "        grid_size = grid_size+4\n",
    "        self.grid_size = grid_size\n",
    "        self.max_time = max_time\n",
    "        self.temperature = temperature\n",
    "\n",
    "        #board on which one plays\n",
    "        self.board = np.zeros((grid_size,grid_size))\n",
    "        self.position = np.zeros((grid_size,grid_size))\n",
    "\n",
    "        # coordinate of the cat\n",
    "        self.x = 0\n",
    "        self.y = 1\n",
    "\n",
    "        # self time\n",
    "        self.t = 0\n",
    "\n",
    "        self.scale=16\n",
    "\n",
    "        self.to_draw = np.zeros((max_time+2, grid_size*self.scale, grid_size*self.scale, 3))\n",
    "\n",
    "\n",
    "    def draw(self,e):\n",
    "        skvideo.io.vwrite(str(e) + '.mp4', self.to_draw)\n",
    "\n",
    "    def get_frame(self,t):\n",
    "        b = np.zeros((self.grid_size,self.grid_size,3))+128\n",
    "        b[self.board>0,0] = 256\n",
    "        b[self.board < 0, 2] = 256\n",
    "        b[self.x,self.y,:]=256\n",
    "        b[-2:,:,:]=0\n",
    "        b[:,-2:,:]=0\n",
    "        b[:2,:,:]=0\n",
    "        b[:,:2,:]=0\n",
    "        \n",
    "        b =  cv2.resize(b, None, fx=self.scale, fy=self.scale, interpolation=cv2.INTER_NEAREST)\n",
    "\n",
    "        self.to_draw[t,:,:,:]=b\n",
    "\n",
    "\n",
    "    def act(self, action):\n",
    "        \"\"\"This function returns the new state, reward and decides if the\n",
    "        game ends.\"\"\"\n",
    "\n",
    "        self.get_frame(int(self.t))\n",
    "\n",
    "        self.position = np.zeros((self.grid_size, self.grid_size))\n",
    "\n",
    "        self.position[0:2,:]= -1\n",
    "        self.position[:,0:2] = -1\n",
    "        self.position[-2:, :] = -1\n",
    "        self.position[-2:, :] = -1\n",
    "\n",
    "        self.position[self.x, self.y] = 1\n",
    "        if action == 0:\n",
    "            if self.x == self.grid_size-3:\n",
    "                self.x = self.x-1\n",
    "            else:\n",
    "                self.x = self.x + 1\n",
    "        elif action == 1:\n",
    "            if self.x == 2:\n",
    "                self.x = self.x+1\n",
    "            else:\n",
    "                self.x = self.x-1\n",
    "        elif action == 2:\n",
    "            if self.y == self.grid_size - 3:\n",
    "                self.y = self.y - 1\n",
    "            else:\n",
    "                self.y = self.y + 1\n",
    "        elif action == 3:\n",
    "            if self.y == 2:\n",
    "                self.y = self.y + 1\n",
    "            else:\n",
    "                self.y = self.y - 1\n",
    "        else:\n",
    "            RuntimeError('Error: action not recognized')\n",
    "\n",
    "        self.t = self.t + 1\n",
    "        reward = self.board[self.x, self.y]\n",
    "        self.board[self.x, self.y] = 0\n",
    "        game_over = self.t > self.max_time\n",
    "        state = np.concatenate((self.board.reshape(self.grid_size, self.grid_size,1),\n",
    "                        self.position.reshape(self.grid_size, self.grid_size,1)),axis=2)\n",
    "        state = state[self.x-2:self.x+3,self.y-2:self.y+3,:]\n",
    "\n",
    "        return state, reward, game_over\n",
    "\n",
    "    def reset(self):\n",
    "        \"\"\"This function resets the game and returns the initial state\"\"\"\n",
    "\n",
    "        self.x = np.random.randint(3, self.grid_size-3, size=1)[0]\n",
    "        self.y = np.random.randint(3, self.grid_size-3, size=1)[0]\n",
    "\n",
    "\n",
    "        bonus = 0.5*np.random.binomial(1,self.temperature,size=self.grid_size**2)\n",
    "        bonus = bonus.reshape(self.grid_size,self.grid_size)\n",
    "\n",
    "        malus = -1.0*np.random.binomial(1,self.temperature,size=self.grid_size**2)\n",
    "        malus = malus.reshape(self.grid_size, self.grid_size)\n",
    "\n",
    "        self.to_draw = np.zeros((self.max_time+2, self.grid_size*self.scale, self.grid_size*self.scale, 3))\n",
    "\n",
    "\n",
    "        malus[bonus>0]=0\n",
    "\n",
    "        self.board = bonus + malus\n",
    "\n",
    "        self.position = np.zeros((self.grid_size, self.grid_size))\n",
    "        self.position[0:2,:]= -1\n",
    "        self.position[:,0:2] = -1\n",
    "        self.position[-2:, :] = -1\n",
    "        self.position[-2:, :] = -1\n",
    "        self.board[self.x,self.y] = 0\n",
    "        self.t = 0\n",
    "\n",
    "        state = np.concatenate((\n",
    "                               self.board.reshape(self.grid_size, self.grid_size,1),\n",
    "                        self.position.reshape(self.grid_size, self.grid_size,1)),axis=2)\n",
    "\n",
    "        state = state[self.x - 2:self.x + 3, self.y - 2:self.y + 3, :]\n",
    "        return state"
   ]
  },
  {
   "cell_type": "markdown",
   "metadata": {},
   "source": [
    "The following elements are important because they correspond to the hyper parameters for this project:"
   ]
  },
  {
   "cell_type": "code",
   "execution_count": 7,
   "metadata": {},
   "outputs": [],
   "source": [
    "# parameters\n",
    "size = 13\n",
    "T=200\n",
    "temperature=0.3\n",
    "epochs_train=11 # set small when debugging\n",
    "epochs_test=3 # set small when debugging\n",
    "\n",
    "# display videos\n",
    "def display_videos(name):\n",
    "    video = io.open(name, 'r+b').read()\n",
    "    encoded = base64.b64encode(video)\n",
    "    return '''<video alt=\"test\" controls>\n",
    "                <source src=\"data:video/mp4;base64,{0}\" type=\"video/mp4\" />\n",
    "             </video>'''.format(encoded.decode('ascii'))\n"
   ]
  },
  {
   "cell_type": "markdown",
   "metadata": {},
   "source": [
    "__Question 2__ Explain the use of the arrays ```position``` and ```board```."
   ]
  },
  {
   "cell_type": "markdown",
   "metadata": {},
   "source": [
    "Position is a matrix where agents cosider its personal position as 1, zeros as our possible moves, and -1 the zones we can not achieve.\n",
    "The board is the matrix of the same size but it contains the information about reward (bonus/malus) for a certain cell."
   ]
  },
  {
   "cell_type": "markdown",
   "metadata": {},
   "source": [
    "## Random Agent"
   ]
  },
  {
   "cell_type": "markdown",
   "metadata": {},
   "source": [
    "***\n",
    "__Question 3__ Implement a random Agent (only ```learned_act``` needs to be implemented):"
   ]
  },
  {
   "cell_type": "code",
   "execution_count": 8,
   "metadata": {},
   "outputs": [],
   "source": [
    "class RandomAgent(Agent):\n",
    "    def __init__(self):\n",
    "        super(RandomAgent, self).__init__()\n",
    "        pass\n",
    "\n",
    "    def learned_act(self, s):\n",
    "        random_result = np.random.randint(0, self.n_action, size=1)[0]\n",
    "        return random_result"
   ]
  },
  {
   "cell_type": "markdown",
   "metadata": {},
   "source": [
    "***\n",
    "***\n",
    "__Question 4__ Visualize the game moves. You need to fill in the following function for the evaluation:"
   ]
  },
  {
   "cell_type": "code",
   "execution_count": 9,
   "metadata": {},
   "outputs": [],
   "source": [
    "\n",
    "def test(agent,env,epochs,prefix=''):\n",
    "    # Number of won games\n",
    "    score = 0\n",
    "        \n",
    "    for e in range(epochs):\n",
    "        \n",
    "        ##### FILL IN HERE\n",
    "        s = env.reset()\n",
    "        game_over = False\n",
    "        win = 0\n",
    "        lose = 0\n",
    "        while game_over == False:\n",
    "            a = agent.act(s)\n",
    "            p_s = s\n",
    "            s, r, game_over = env.act(a)\n",
    "            if r > 0:\n",
    "                win = win + r\n",
    "            if r < 0:\n",
    "                lose = lose -r\n",
    "            loss = agent.reinforce(p_s, s,  a, r, game_over)\n",
    "        # Save as a mp4\n",
    "        env.draw(prefix+str(e))\n",
    "\n",
    "        # Update stats\n",
    "        score = score + win-lose\n",
    "\n",
    "        print(\"Win/lose count {}/{}. Average score ({})\"\n",
    "              .format(win, lose, score/(1+e)))\n",
    "    print('Final score: '+str(score/epochs))"
   ]
  },
  {
   "cell_type": "code",
   "execution_count": 10,
   "metadata": {
    "scrolled": true
   },
   "outputs": [
    {
     "name": "stdout",
     "output_type": "stream",
     "text": [
      "Win/lose count 6.5/16.0. Average score (-9.5)\n",
      "Win/lose count 7.5/12.0. Average score (-7.0)\n",
      "Win/lose count 11.0/17.0. Average score (-6.666666666666667)\n",
      "Final score: -6.666666666666667\n"
     ]
    },
    {
     "data": {
      "text/html": [
       "<video alt=\"test\" controls>\n",
       "                <source src=\"data:video/mp4;base64,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\" type=\"video/mp4\" />\n",
       "             </video>"
      ],
      "text/plain": [
       "<IPython.core.display.HTML object>"
      ]
     },
     "execution_count": 10,
     "metadata": {},
     "output_type": "execute_result"
    }
   ],
   "source": [
    "# Initialize the game\n",
    "env = Environment(grid_size=size, max_time=T,temperature=temperature)\n",
    "\n",
    "# Initialize the agent!\n",
    "agent = RandomAgent()\n",
    "\n",
    "test(agent,env,epochs_test,prefix='random')\n",
    "HTML(display_videos('random0.mp4'))"
   ]
  },
  {
   "cell_type": "markdown",
   "metadata": {},
   "source": [
    "***\n",
    "## DQN"
   ]
  },
  {
   "cell_type": "markdown",
   "metadata": {},
   "source": [
    "Let us assume here that $T=\\infty$.\n",
    "\n",
    "***\n",
    "__Question 5__ Let $\\pi$ be a policy, show that:\n",
    "\n",
    "\\begin{equation*}\n",
    "Q^{\\pi}(s,a)=E_{(s',a')\\sim p(.|s,a)}[r(s,a)+\\gamma Q^{\\pi}(s',a')]\n",
    "\\end{equation*}\n",
    "\n",
    "Then, show that for the optimal policy $\\pi^*$ (we assume its existence), the following holds: \n",
    "\n",
    "\\begin{equation*}\n",
    "Q^{*}(s,a)=E_{s'\\sim \\pi^*(.|s,a)}[r(s,a)+\\gamma\\max_{a'}Q^{*}(s',a')].\n",
    "\\end{equation*}\n",
    "Finally, deduce that a plausible objective is:\n",
    "\n",
    "\\begin{equation*}\n",
    "\\mathcal{L}(\\theta)=E_{s' \\sim \\pi^*(.|s,a)}\\Vert r+\\gamma\\max\\max_{a'}Q(s',a',\\theta)-Q(s,a,\\theta)\\Vert^{2}.\n",
    "\\end{equation*}\n",
    "\n",
    "\n"
   ]
  },
  {
   "cell_type": "markdown",
   "metadata": {},
   "source": []
  },
  {
   "cell_type": "markdown",
   "metadata": {},
   "source": [
    "First proof:\n",
    "We have \\begin{align}Q^\\pi(s,a)&=E{p^{\\pi}}[\\sum_{0 \\leq t}\\gamma^{t}r(s_{t},a_{t})|s_{0}=s,a_{0}=a] \\\\\n",
    "                 &=r(s,a) + E_{p^{\\pi}}[\\sum_{1 \\leq t}\\gamma^{t}r(s_{t},a_{t})|s_{0}=s,a_{0}=a] \\\\\n",
    "                 &=r(s,a) + \\sum_{(s', a')}..\\sum_{} \\big( \\sum_{1 \\leq t} \\gamma^{t} r(s_{t}, a_{t})\\big) p(s_{1} = s',a_{1} =a', s_2 =... |s_{0}=s,a_{0}=a)\n",
    "\\end{align} Also, knowing that $\\pi$ is a markov decision process, it follows markov properties in terms of formulas:\n",
    "\\begin{equation} p(s_{1} = s', a_{1} = a', s_{2} =... |s_{0}=s,a_{0}=a) = p(s_2 ... |s_{0}=s,a_{0}=a, s_{1}=s',a_{1}=a') p(s_{1}=s',a_{1}=a' | s_{0}=s,a_{0}=a) = p(s_2 ... |s_{1}=s',a_{1}=a') p(s_{1}=s',a_{1}=a' | s_{0}=s,a_{0}=a) \\end{equation}\n",
    "So: \\begin{align}Q^\\pi(s,a) \\\\&= r(s,a) + \\gamma \\sum{(s', a')} p(s_{1}=s',a_{1}=a' | s_{0}=s,a_{0}=a) \\sum_{(s_2, a_2)}..\\sum{} \\sum{1 \\leq t} \\gamma^{t-1} r(s_{t}, a_{t}) p(s_2 ... |s_{1}=s',a_{1}=a') \\\\\n",
    "&= r(s,a) + \\gamma \\sum{(s', a')} p(s_{1}=s',a_{1}=a' | s_{0}=s,a_{0}=a)E{p^{\\pi}}[ \\sum{1 \\leq t} \\gamma^{t-1} r(s{t}, a{t})|s_{1}=s',a_{1}=a')] \\\\ \n",
    "&= r(s,a) + \\gamma \\sum{(s', a')} p(s_{1}=s',a_{1}=a' | s_{0}=s,a_{0}=a) Q^{\\pi}(s', a') \\\\\n",
    "&= r(s,a) + \\gamma E_{(s',a')\\sim p(.|s,a)} [Q^{\\pi}(s', a')] \\end{align}\n",
    "\n",
    "We have to show that: \\begin{equation} Q^* (s,a) = r(s,a) + \\gamma \\sum{s'} p(s'|s,a) \\max{a'} Q^\\pi (s',a') \\end{equation} We have: \\begin{align} Q^* (s,a) &= \\max{\\pi^*} [r(s,a) + \\gamma \\sum{(s', a')} p(s', a' | s, a) Q^*(s', a')] \\\n",
    "   &= r(s,a) + \\gamma \\max_{\\pi*} [\\sum_{(s', a')} p(s', a' | s, a) Q^*(s', a')]\n",
    "\\end{align} It can be seen that changing the sum and maximums we have an inequality : \\begin{align} \\max \\limits{\\pi} [\\sum \\limits{(s', a')} p(s', a' | s, a) Q^*(s', a')] \\leq \\sum \\limits{(s', a')} p(s', a' | s, a) \\max \\limits{\\pi^*} Q^*(s', a') \\end{align}\n",
    "\n"
   ]
  },
  {
   "cell_type": "markdown",
   "metadata": {},
   "source": [
    "Now, denoting  $\\hat{\\pi}(s',a') = \\arg\\max_{\\pi'} Q^{\\pi'}(s',a')$\n",
    "\\begin{align} \\sum{(s'} p(s_{t+1}=s'|s_t = s, a_t = a ) \\max{\\pi'}Q^{\\pi'}(s',a')\\\\\n",
    "&= \\sum{(s')} p(s{t+1}=s' |s_t = s, at = a ) Q^{\\hat{\\pi}(s',a')}(s',a') \\\\\n",
    "&\\leq \\max{\\pi'} \\sum{s'} p(s{t+1}=s' |s_t = s, a_t = a )Q^{\\pi'}(s',a') \\end{align}"
   ]
  },
  {
   "cell_type": "markdown",
   "metadata": {},
   "source": [
    "That's allows us to transform our equation:\n",
    "\\begin{align} Q^{}(s,a)&= r(s,a) + \\gamma \\sum(p(s_{t+1}=s' |s_t = s, a_t = a )\\max{a'}\\max{\\pi'}Q^{\\pi'}(s',a')\\\\\n",
    "&= r(s,a) + \\gamma \\sum(p(s_{t+1}=s' |s_t = s, a_t = a )\\max{a'} Q^{}(s',a') \\\\\n",
    "&=E{s'\\sim \\pi^*(.|s,a)}[r(s,a)+\\gamma\\max{a'}Q^{*}(s',a')]. \\end{align}"
   ]
  },
  {
   "cell_type": "markdown",
   "metadata": {},
   "source": [
    "Finally, our loss function:\n",
    "\\begin{equation*}\n",
    "\\mathcal{L}(\\theta)=E_{s' \\sim \\pi^*(.|s,a)}\\Vert r+\\gamma\\max\\max_{a'}Q(s',a',\\theta)-Q(s,a,\\theta)\\Vert^{2}.\n",
    "\\end{equation*}\n",
    "As our policy is close to optimal, this function will converge to zero. The higher this residual the farther our policy from optimality."
   ]
  },
  {
   "cell_type": "markdown",
   "metadata": {},
   "source": [
    "***\n",
    "The DQN-learning algorithm relies on these derivations to train the parameters $\\theta$ of a Deep Neural Network:\n",
    "\n",
    "1. At the state $s_t$, select the action $a_t$ with best reward using $Q_t$ and store the results;\n",
    "\n",
    "2. Obtain the new state $s_{t+1}$ from the environment $p$;\n",
    "\n",
    "3. Store $(s_t,a_t,s_{t+1})$;\n",
    "\n",
    "4. Obtain $Q_{t+1}$ by minimizing  $\\mathcal{L}$ from a recovered batch from the previously stored results.\n",
    "\n",
    "***\n",
    "__Question 6__ Implement the class ```Memory``` that stores moves (in a replay buffer) via ```remember``` and provides a ```random_access``` to these. Specify a maximum memory size to avoid side effects. You can for example use a ```list()``` and set by default ```max_memory=100```."
   ]
  },
  {
   "cell_type": "code",
   "execution_count": 11,
   "metadata": {},
   "outputs": [],
   "source": [
    "class Memory(object):\n",
    "    def __init__(self, max_memory=100):\n",
    "        self.max_memory = max_memory\n",
    "        self.memory = list()\n",
    "\n",
    "    def remember(self, m):\n",
    "        if len(self.memory) < self.max_memory:\n",
    "            self.memory.insert(0, m)\n",
    "        else:\n",
    "            del self.memory[-1]\n",
    "            self.memory.insert(0, m)\n",
    "    def random_access(self):\n",
    "         return self.memory[np.random.choice(np.arange(0, len(self.memory)))]"
   ]
  },
  {
   "cell_type": "markdown",
   "metadata": {},
   "source": [
    "***\n",
    "The pipeline we will use for training is given below:"
   ]
  },
  {
   "cell_type": "code",
   "execution_count": 12,
   "metadata": {},
   "outputs": [],
   "source": [
    "def train(agent,env,epoch,prefix=''):\n",
    "    # Number of won games\n",
    "    score = 0\n",
    "    loss = 0\n",
    "\n",
    "    for e in range(epoch):\n",
    "        # At each epoch, we restart to a fresh game and get the initial state\n",
    "        state = env.reset()\n",
    "        # This assumes that the games will terminate\n",
    "        game_over = False\n",
    "\n",
    "        win = 0\n",
    "        lose = 0\n",
    "\n",
    "        while not game_over:\n",
    "            # The agent performs an action\n",
    "            action = agent.act(state)\n",
    "\n",
    "            # Apply an action to the environment, get the next state, the reward\n",
    "            # and if the games end\n",
    "            prev_state = state\n",
    "            state, reward, game_over = env.act(action)\n",
    "\n",
    "            # Update the counters\n",
    "            if reward > 0:\n",
    "                win = win + reward\n",
    "            if reward < 0:\n",
    "                lose = lose -reward\n",
    "\n",
    "            # Apply the reinforcement strategy\n",
    "            loss = agent.reinforce(prev_state, state,  action, reward, game_over)\n",
    "\n",
    "        # Save as a mp4\n",
    "        if e % 10 == 0:\n",
    "            env.draw(prefix+str(e))\n",
    "\n",
    "        # Update stats\n",
    "        score += win-lose\n",
    "\n",
    "        print(\"Epoch {:03d}/{:03d} | Loss {:.4f} | Win/lose count {}/{} ({})\"\n",
    "              .format(e, epoch, loss, win, lose, win-lose))\n",
    "        agent.save(name_weights=prefix+'model.h5',name_model=prefix+'model.json')"
   ]
  },
  {
   "cell_type": "markdown",
   "metadata": {},
   "source": [
    "***\n",
    "__Question 7__ Implement the DQN training algorithm using a cascade of fully connected layers. You can use different learning rate, batch size or memory size parameters. In particular, the loss might oscillate while the player will start to win the games. You have to find a good criterium."
   ]
  },
  {
   "cell_type": "code",
   "execution_count": 13,
   "metadata": {},
   "outputs": [],
   "source": [
    "class DQN(Agent):\n",
    "    def __init__(self, grid_size,  epsilon = 0.1, memory_size=100, batch_size = 16,n_state=2):\n",
    "        super(DQN, self).__init__(epsilon = epsilon)\n",
    "\n",
    "        # Discount for Q learning\n",
    "        self.discount = 0.99\n",
    "        \n",
    "        self.grid_size = grid_size\n",
    "        \n",
    "        # number of state\n",
    "        self.n_state = n_state\n",
    "\n",
    "        # Memory\n",
    "        self.memory = Memory(memory_size)\n",
    "        \n",
    "        # Batch size when learning\n",
    "        self.batch_size = batch_size\n",
    "\n",
    "    def learned_act(self, s):\n",
    "        return(np.argmax(self.model.predict(s.reshape([1,s.shape[0],\n",
    "                                                      s.shape[1],\n",
    "                                                      s.shape[2]]))[0,:]))\n",
    "\n",
    "    def reinforce(self, s_, n_s_, a_, r_, game_over_):\n",
    "        # Two steps: first memorize the states, second learn from the pool\n",
    "\n",
    "        self.memory.remember([s_, n_s_, a_, r_, game_over_])\n",
    "        \n",
    "        input_states = np.zeros((self.batch_size, 5,5,self.n_state))\n",
    "        target_q = np.zeros((self.batch_size, 4))\n",
    "        \n",
    "        for i in range(self.batch_size):\n",
    "            ######## FILL IN\n",
    "            s_, n_s_, a_, r_, game_over_  = self.memory.random_access()\n",
    "            target_q[i] =self.model.predict(s_.reshape([1,s_.shape[0],s_.shape[1],s_.shape[2]]))\n",
    "            if game_over_:\n",
    "                ######## FILL IN\n",
    "                input_states[i] = s_\n",
    "                target_q[i,a_] = r_\n",
    "            else:\n",
    "                ######## FILL IN\n",
    "                input_states[i] = s_\n",
    "                target_q[i,a_] = r_  + self.discount*max(self.model.predict(n_s_.reshape([1,s_.shape[0],s_.shape[1],s_.shape[2]]))[0])\n",
    "        ######## FILL IN\n",
    "        # HINT: Clip the target to avoid exploiding gradients.. -- clipping is a bit tighter\n",
    "        target_q = np.clip(target_q, -3, 3)\n",
    "\n",
    "        l = self.model.train_on_batch(input_states, target_q)\n",
    "\n",
    "\n",
    "        return l\n",
    "\n",
    "    def save(self,name_weights='model.h5',name_model='model.json'):\n",
    "        self.model.save_weights(name_weights, overwrite=True)\n",
    "        with open(name_model, \"w\") as outfile:\n",
    "            json.dump(self.model.to_json(), outfile)\n",
    "            \n",
    "    def load(self,name_weights='model.h5',name_model='model.json'):\n",
    "        with open(name_model, \"r\") as jfile:\n",
    "            model = model_from_json(json.load(jfile))\n",
    "        model.load_weights(name_weights)\n",
    "        model.compile(\"sgd\", \"mse\")\n",
    "        self.model = model\n",
    "\n",
    "            \n",
    "class DQN_FC(DQN):\n",
    "    def __init__(self, *args, lr=0.1, n_nodes = 25,**kwargs):\n",
    "        super(DQN_FC, self).__init__( *args,**kwargs)\n",
    "        \n",
    "        # NN Model\n",
    "        model = Sequential()\n",
    "        # prepare data for fully connected layers\n",
    "        model.add(Flatten(input_shape=(5,5,self.n_state,)))\n",
    "        model.add(Dense(n_nodes,activation ='relu'))\n",
    "        model.add(Dense(n_nodes,activation ='relu'))\n",
    "        model.add(Dense(n_nodes,activation ='relu'))\n",
    "        model.add(Dense(n_nodes,activation ='relu'))\n",
    "        model.add(Dense(4))\n",
    "        ####### FILL IN\n",
    "        \n",
    "        \n",
    "        model.compile(sgd(lr=lr, decay=1e-4, momentum=0.0), \"mse\")\n",
    "        self.model = model\n",
    "        "
   ]
  },
  {
   "cell_type": "code",
   "execution_count": 14,
   "metadata": {},
   "outputs": [
    {
     "name": "stdout",
     "output_type": "stream",
     "text": [
      "Epoch 000/025 | Loss 0.0027 | Win/lose count 3.0/2.0 (1.0)\n",
      "Epoch 001/025 | Loss 0.0060 | Win/lose count 3.5/10.0 (-6.5)\n",
      "Epoch 002/025 | Loss 0.0133 | Win/lose count 3.5/3.0 (0.5)\n",
      "Epoch 003/025 | Loss 0.0074 | Win/lose count 2.5/5.0 (-2.5)\n",
      "Epoch 004/025 | Loss 0.0050 | Win/lose count 6.5/4.0 (2.5)\n",
      "Epoch 005/025 | Loss 0.0095 | Win/lose count 0.5/3.0 (-2.5)\n",
      "Epoch 006/025 | Loss 0.0067 | Win/lose count 2.0/8.0 (-6.0)\n",
      "Epoch 007/025 | Loss 0.0274 | Win/lose count 2.0/3.0 (-1.0)\n",
      "Epoch 008/025 | Loss 0.0054 | Win/lose count 5.0/1.0 (4.0)\n",
      "Epoch 009/025 | Loss 0.0215 | Win/lose count 3.5/2.0 (1.5)\n",
      "Epoch 010/025 | Loss 0.0017 | Win/lose count 2.0/2.0 (0.0)\n",
      "Epoch 011/025 | Loss 0.0025 | Win/lose count 1.0/2.0 (-1.0)\n",
      "Epoch 012/025 | Loss 0.0101 | Win/lose count 3.0/7.0 (-4.0)\n",
      "Epoch 013/025 | Loss 0.0027 | Win/lose count 3.5/3.0 (0.5)\n",
      "Epoch 014/025 | Loss 0.0088 | Win/lose count 5.0/2.0 (3.0)\n",
      "Epoch 015/025 | Loss 0.0007 | Win/lose count 0.5/4.0 (-3.5)\n",
      "Epoch 016/025 | Loss 0.0063 | Win/lose count 4.0/2.0 (2.0)\n",
      "Epoch 017/025 | Loss 0.0050 | Win/lose count 6.5/2.0 (4.5)\n",
      "Epoch 018/025 | Loss 0.0105 | Win/lose count 3.5/2.0 (1.5)\n",
      "Epoch 019/025 | Loss 0.0033 | Win/lose count 2.5/2.0 (0.5)\n",
      "Epoch 020/025 | Loss 0.0013 | Win/lose count 2.5/3.0 (-0.5)\n",
      "Epoch 021/025 | Loss 0.0049 | Win/lose count 2.5/1.0 (1.5)\n",
      "Epoch 022/025 | Loss 0.0076 | Win/lose count 4.0/4.0 (0.0)\n",
      "Epoch 023/025 | Loss 0.0146 | Win/lose count 2.0/2.0 (0.0)\n",
      "Epoch 024/025 | Loss 0.0693 | Win/lose count 2.5/1.0 (1.5)\n"
     ]
    },
    {
     "data": {
      "text/html": [
       "<video alt=\"test\" controls>\n",
       "                <source src=\"data:video/mp4;base64,AAAAIGZ0eXBpc29tAAACAGlzb21pc28yYXZjMW1wNDEAAAAIZnJlZQAAFi9tZGF0AAACrQYF//+p3EXpvebZSLeWLNgg2SPu73gyNjQgLSBjb3JlIDE1NyByMjkzNSA1NDVkZTJmIC0gSC4yNjQvTVBFRy00IEFWQyBjb2RlYyAtIENvcHlsZWZ0IDIwMDMtMjAxOCAtIGh0dHA6Ly93d3cudmlkZW9sYW4ub3JnL3gyNjQuaHRtbCAtIG9wdGlvbnM6IGNhYmFjPTEgcmVmPTMgZGVibG9jaz0xOjA6MCBhbmFseXNlPTB4MToweDExMSBtZT1oZXggc3VibWU9NyBwc3k9MSBwc3lfcmQ9MS4wMDowLjAwIG1peGVkX3JlZj0xIG1lX3JhbmdlPTE2IGNocm9tYV9tZT0xIHRyZWxsaXM9MSA4eDhkY3Q9MCBjcW09MCBkZWFkem9uZT0yMSwxMSBmYXN0X3Bza2lwPTEgY2hyb21hX3FwX29mZnNldD00IHRocmVhZHM9NiBsb29rYWhlYWRfdGhyZWFkcz0xIHNsaWNlZF90aHJlYWRzPTAgbnI9MCBkZWNpbWF0ZT0xIGludGVybGFjZWQ9MCBibHVyYXlfY29tcGF0PTAgY29uc3RyYWluZWRfaW50cmE9MCBiZnJhbWVzPTMgYl9weXJhbWlkPTIgYl9hZGFwdD0xIGJfYmlhcz0wIGRpcmVjdD0xIHdlaWdodGI9MSBvcGVuX2dvcD0wIHdlaWdodHA9MiBrZXlpbnQ9MjUwIGtleWludF9taW49MjUgc2NlbmVjdXQ9NDAgaW50cmFfcmVmcmVzaD0wIHJjX2xvb2thaGVhZD00MCByYz1jcmYgbWJ0cmVlPTEgY3JmPTIzLjAgcWNvbXA9MC42MCBxcG1pbj0wIHFwbWF4PTY5IHFwc3RlcD00IGlwX3JhdGlvPTEuNDAgYXE9MToxLjAwAIAAAAKjZYiEADf//vaH+BTZWBP+Wb/9DX/cj9uPrP1xYyEE31qvIejAGS+1H+b/rFFs6Z6UB/fgCJQAc24ZwpHZJ3iTdjdQw/DAvgUuAor4FNJkVXtJn5Iz37ESSk5XOT2uX+laZmsKtDy/1xdgLUkwCsC6V6gYpegvUtPhw166k1MC9QETfNS4kFuInW/wjWKXYmek1fHj8Usxh8/NcwAtYG2tXAeaNiKMFjf3gB8V6nn35d0OxsU3HSOSxJT3ul3R1Y6AMosQRY/gJhUcocCZyckNxS1iQDB9nEv9a5Ic4Zid4YMGt7ZKX70W6IIGwQiYTguCdCwH/ZzEczQNbFzCXUcIa9jhCqR82xZBiWXjYEWvldjjhX3Kf5ZE/dQ7mDAu/ih+GdUiFaTkmVOBjAZ10x54N9IL2uHCtqQvrYKMxBLNcBaAKlDJG9LZ6o36qW8lEBiuS4kkCQvZ8j2TzcCGSA7Fq2X/G4fqlNDmFBYd86LkYCKMA9nipPYiHYi24uD/4T5mm7yVbZKH2j1KeAwdDxl2rD+RPI+5DxvzbzrvlpIOouCRKxQ0SkcafjN7SWhBzankOw7QHlCfcTi7CQnpds9c2hg4J52fU2QAaB0bnwRgP0Uw66JRlaLDq2tTsu0J2BQVnVDAecUM2MneocOTVNGfJXbUsdJxQONUaSXHDA+5l865zFiW/n7bnDKqiDIechzyhi1JtZWRH0QZk3WAt6RzfBUVR1k+oVT7mwkcv6pJlvqxCQ4gzACrHkRerj30TpBPCMRPLCZJUl8YWu9VXYY1AVXX1kRj8jw9a7VyTdbZxrOBCkHgYIZFxcXp7nIuNqkK7RrGg2HHFJN2s2DQpKFEQFgy7cW0eBFt9ceT30zJ6RHlJtbHdC0HApSFPFHfxnDxAA3pAAAAFEGaIWxDf/6nhABr+Gs22z7PmmpAAAAAGkGaQzwhkymEN//+p4QAbH2D+bSCWyDLauCxAAAADwGeYmpCvwBYmspm2ZGt8wAAABxBmmVJ4Q8mUwU8N//+p4QAmo+aprNua8dPtW1ZAAAAEAGehGpCvwB8WfMbockHF80AAAAaQZqISeEPJlMCG//+p4QA7Bxn+q31WUfiDekAAAAPQZ6mRRE8K/8Aw5LWaYHBAAAADQGex2pCvwDD2LDxTA4AAAAbQZrJSahBaJlMCHf//qmWAHf+IQbPSzo6nkVTAAAAEkGa7UnhClJlMCHf/qmWAACVgQAAABRBnwtFNEwv/wCKx9GcOL5nHpFswAAAABABnyp0Qr8Aw7ybytlD0fLAAAAAEAGfLGpCvwDDgsa95pWbVMEAAAASQZsxSahBaJlMCG///qeEAAEnAAAADEGfT0URLC//AACygQAAABABn250Qr8Aw7yb0u6wxapgAAAAEAGfcGpCvwDDgsa4zAeNqmAAAAASQZt1SahBbJlMCG///qeEAAEnAAAADEGfk0UVLC//AACygAAAABABn7J0Qr8Aw7yb0u6wxapgAAAAEAGftGpCvwDDgsa4zAeNqmEAAAAaQZu2SahBbJlMCHf//qmWAHdHT8RSg8fkVTAAAAAdQZvYSeEKUmUwUVLDv/6plgDJ7OiBZoA6+jnn63sAAAAQAZ/3akK/ATbZ5bhs2pj7gQAAAB9Bm/xJ4Q6JlMCHf/6plgHz1QshJtYO1UZv6WgfXYmfAAAAEUGeGkUVPC//AVtV3HozHDZhAAAADwGeOXRCvwE/tHeecWj5gAAAABABnjtqQr8B0h/MbockHEh5AAAAE0GaIEmoQWiZTAh3//6plgAAlYEAAAAMQZ5eRREsL/8AALKAAAAAEAGefXRCvwHSaVjCpHIQ15AAAAAQAZ5/akK/AdHtDoTY5MTpoQAAABJBmmRJqEFsmUwIb//+p4QAAScAAAAMQZ6CRRUsL/8AALKBAAAAEgGeoXRCvwHSJDVAOaJlyHRWwAAAABABnqNqQr8B0e0OhNjkxOmhAAAAE0GapkmoQWyZTBRMN//+p4QAAScAAAASAZ7FakK/AdGGKJV24FigLIuBAAAAEkGayEnhClJlMFLDf/6nhAABJwAAABIBnudqQr8B0YYolXbgWKAsi4AAAAASQZrqSeEOiZTBRMN//qeEAAEnAAAAEgGfCWpCvwHRhiiVduBYoCyLgQAAABJBmwxJ4Q8mUwU8N//+p4QAAScAAAASAZ8rakK/AdGGKJV24FigLIuAAAAAEkGbLknhDyZTBTw3//6nhAABJwAAABIBn01qQr8B0YYolXbgWKAsi4EAAAASQZtQSeEPJlMFPDf//qeEAAEnAAAAEgGfb2pCvwHRhiiVduBYoCyLgAAAABJBm3JJ4Q8mUwU8N//+p4QAAScAAAASAZ+RakK/AdGGKJV24FigLIuBAAAAEkGblEnhDyZTBTw3//6nhAABJwAAABIBn7NqQr8B0YYolXbgWKAsi4AAAAASQZu2SeEPJlMFPDf//qeEAAEnAAAAEgGf1WpCvwHRhiiVduBYoCyLgAAAAB1Bm9dJ4Q8mUwId//6plgHz1U5ISO5M0b/Rj9jikwAAAB5Bm/tJ4Q8mUwId//6plgHV4hAP7+dUqRuJqnj7T/EAAAAQQZ4ZRRE8L/8BUWWKgWSJFwAAABABnjh0Qr8BxeLM8r8lNk45AAAADwGeOmpCvwEvDQPJgizZgAAAABNBmj9JqEFomUwId//+qZYAAJWBAAAADEGeXUURLC//AACygQAAABABnnx0Qr8B0mlYvP4HI15AAAAADwGefmpCvwErVI3WerPSDgAAABxBmmNJqEFsmUwId//+qZYAxHjz+RxqdQg3BuuPAAAAEEGegUUVLC//ANyq7v83b7gAAAAPAZ6gdEK/AS60IDJLlJuBAAAAEAGeompCvwEuk+c60MLw9MAAAAAXQZqnSahBbJlMCHf//qmWAEx+jn5IvmEAAAAOQZ7FRRUsL/8AWugIGLEAAAAQAZ7kdEK/AMO8m6O2+FTugQAAABABnuZqQr8AvNlHezx9uquBAAAAHEGa60moQWyZTAh3//6plgDCqOiBZoA6+PPn644AAAAQQZ8JRRUsL/8A3Ijd7gDbQAAAABABnyh0Qr8BLvNUDp2oaemBAAAADwGfKmpCvwEvDQPJgizZgAAAABNBmy9JqEFsmUwId//+qZYAAJWAAAAADEGfTUUVLC//AACygQAAAA8Bn2x0Qr8BK1SOI7LsqTcAAAAPAZ9uakK/AStUjdZ6s9IPAAAAE0Gbc0moQWyZTAh3//6plgAAlYAAAAAMQZ+RRRUsL/8AALKAAAAADwGfsHRCvwErVI4jsuypNwAAAA8Bn7JqQr8BK1SN1nqz0g4AAAATQZu3SahBbJlMCHf//qmWAACVgAAAAAxBn9VFFSwv/wAAsoEAAAAPAZ/0dEK/AStUjiOy7Kk3AAAADwGf9mpCvwErVI3WerPSDwAAABNBm/tJqEFsmUwId//+qZYAAJWBAAAADEGeGUUVLC//AACygAAAAA8Bnjh0Qr8BK1SOI7LsqTcAAAAPAZ46akK/AStUjdZ6s9IOAAAAE0GaP0moQWyZTAh3//6plgAAlYEAAAAMQZ5dRRUsL/8AALKBAAAADwGefHRCvwErVI4jsuypNwAAAA8Bnn5qQr8BK1SN1nqz0g4AAAAcQZpjSahBbJlMCG///qeEAYLx0+0UYWzFCOOruQAAABBBnoFFFSwv/wDciN3uANtAAAAADwGeoHRCvwEudlCk2yVRZQAAAA8BnqJqQr8Aw4LGwOU2qYAAAAASQZqnSahBbJlMCGf//p4QAAR9AAAADEGexUUVLC//AACygQAAABABnuR0Qr8Aw7ybo7b4VO6BAAAAEAGe5mpCvwEmta7rIYcjlYEAAAAaQZroSahBbJlMCG///qeEAOwDwp1nT7ra7oAAAAAZQZsJSeEKUmUwIb/+p4QA8YPCnWdPutrpgAAAABtBmy1J4Q6JlMCG//6nhAGditUx/qpt7B+srZkAAAAQQZ9LRRE8L/8A56dO/zdvCAAAAA8Bn2p0Qr8Azbybzzi0xYAAAAAPAZ9sakK/AT+wjyYHr2z/AAAAGUGbbkmoQWiZTAhv//6nhAGh7qcf4fVbcaEAAAAZQZuPSeEKUmUwId/+qZYAy/o5pZ0dS7JlQQAAABJBm7NJ4Q6JlMCHf/6plgAAlYAAAAAMQZ/RRRE8L/8AALKAAAAADwGf8HRCvwErVI4jsuypNwAAAA8Bn/JqQr8BK1SN1nqz0g4AAAATQZv3SahBaJlMCHf//qmWAACVgAAAAAxBnhVFESwv/wAAsoEAAAAPAZ40dEK/AStUjiOy7Kk3AAAADwGeNmpCvwErVI3WerPSDwAAABNBmjtJqEFsmUwId//+qZYAAJWBAAAADEGeWUUVLC//AACygAAAAA8Bnnh0Qr8BK1SOI7LsqTcAAAAPAZ56akK/AStUjdZ6s9IOAAAAHEGaf0moQWyZTAh3//6plgDEePP5HGp1CDcG648AAAAQQZ6dRRUsL/8A3Ijd7gDbQQAAABABnrx0Qr8BLnVoyS3+toeAAAAADwGevmpCvwDDgsbA5TapgAAAABNBmqNJqEFsmUwId//+qZYAAJWBAAAADEGewUUVLC//AACygAAAABABnuB0Qr8Aw7ybo7b4VO6BAAAADwGe4mpCvwDDgsaJXPLpnwAAABNBmudJqEFsmUwId//+qZYAAJWBAAAADEGfBUUVLC//AACygQAAABABnyR0Qr8Aw7ybo7b4VO6BAAAADwGfJmpCvwDDgsaJXPLpnwAAABNBmytJqEFsmUwId//+qZYAAJWAAAAADEGfSUUVLC//AACygAAAABABn2h0Qr8Aw7ybo7b4VO6BAAAADwGfampCvwDDgsaJXPLpnwAAABxBm29JqEFsmUwId//+qZYAwqjogWaAOvjz5+uOAAAAEEGfjUUVLC//ANyq7v83b7kAAAAPAZ+sdEK/AMO8m884tM+BAAAADwGfrmpCvwEu2eW4bNqZAwAAABNBm7NJqEFsmUwId//+qZYAAJWAAAAADEGf0UUVLC//AACygAAAAA8Bn/B0Qr8BNtx3R23wqS8AAAAPAZ/yakK/AStUjdZ6s9IOAAAAE0Gb90moQWyZTAh3//6plgAAlYAAAAAMQZ4VRRUsL/8AALKBAAAADwGeNHRCvwErVI4jsuypNwAAAA8BnjZqQr8BK1SN1nqz0g8AAAATQZo7SahBbJlMCHf//qmWAACVgQAAAAxBnllFFSwv/wAAsoAAAAAPAZ54dEK/AStUjiOy7Kk3AAAADwGeempCvwErVI3WerPSDgAAABNBmn9JqEFsmUwId//+qZYAAJWBAAAADEGenUUVLC//AACygQAAAA8Bnrx0Qr8BK1SOI7LsqTcAAAAPAZ6+akK/AStUjdZ6s9IOAAAAE0Gao0moQWyZTAh3//6plgAAlYEAAAAMQZ7BRRUsL/8AALKAAAAADwGe4HRCvwErVI4jsuypNwAAAA8BnuJqQr8BK1SN1nqz0g4AAAAcQZrnSahBbJlMCHf//qmWAMR48/kcanUINwbrjwAAABBBnwVFFSwv/wDcqu7/N2+5AAAADwGfJHRCvwEutCAyS5SbgQAAABABnyZqQr8BLpPnOtDC8PTBAAAAEkGbK0moQWyZTAhv//6nhAABJwAAAAxBn0lFFSwv/wAAsoAAAAAQAZ9odEK/AMO8m6O2+FTugQAAAA8Bn2pqQr8Aw4LGiVzy6Z8AAAAaQZtuSahBbJlMCG///qeEAOwDwp1nT7ra7oAAAAAPQZ+MRRUsK/8Aw5Gga1TBAAAADQGfrWpCvwDD2JFvWqcAAAAaQZuvSahBbJlMCG///qeEAPGDwp1nT7ra6YEAAAAbQZvTSeEKUmUwIb/+p4QBnYrVMf6qbewfrK2YAAAAEEGf8UU0TC//AOenTv83bwgAAAAPAZ4QdEK/AM28m884tMWBAAAADwGeEmpCvwE/sI8mB69s/wAAABlBmhRJqEFomUwIb//+p4QBoe6nH+H1W3GhAAAAGUGaNUnhClJlMCHf/qmWAMv6OaWdHUuyZUEAAAASQZpZSeEOiZTAh3/+qZYAAJWAAAAADEGed0URPC//AACygQAAAA8BnpZ0Qr8BK1SOI7LsqTcAAAAPAZ6YakK/AStUjdZ6s9IOAAAAE0GanUmoQWiZTAh3//6plgAAlYEAAAAMQZ67RREsL/8AALKAAAAADwGe2nRCvwErVI4jsuypNwAAAA8BntxqQr8BK1SN1nqz0g8AAAASQZrBSahBbJlMCG///qeEAAEnAAAADEGe/0UVLC//AACygAAAAA8Bnx50Qr8BK1SOI7LsqTcAAAAPAZ8AakK/AStUjdZ6s9IOAAAAEkGbBUmoQWyZTAhn//6eEAAEfQAAAAxBnyNFFSwv/wAAsoAAAAAQAZ9CdEK/AdJpWLz+ByNeQQAAAA8Bn0RqQr8BK1SN1nqz0g8AAAAaQZtJS6hCEFskRggoB/IB/YeAIV/+OEAAEXEAAAAjQZ9nRRUsL/8CAdzqS9szCrmA6Bq1qFwJQBlok8LfMpM0nDEAAAAPAZ+GdEK/AStUjiOy7Kk3AAAAJAGfiGpCvwKvY+1BxN2qw0km5aqAX0Ep6ZIczpnqePsPtRBadAAADFhtb292AAAAbG12aGQAAAAAAAAAAAAAAAAAAAPoAAAfkAABAAABAAAAAAAAAAAAAAAAAQAAAAAAAAAAAAAAAAAAAAEAAAAAAAAAAAAAAAAAAEAAAAAAAAAAAAAAAAAAAAAAAAAAAAAAAAAAAAAAAAACAAALgnRyYWsAAABcdGtoZAAAAAMAAAAAAAAAAAAAAAEAAAAAAAAfkAAAAAAAAAAAAAAAAAAAAAAAAQAAAAAAAAAAAAAAAAAAAAEAAAAAAAAAAAAAAAAAAEAAAAABEAAAARAAAAAAACRlZHRzAAAAHGVsc3QAAAAAAAAAAQAAH5AAAAQAAAEAAAAACvptZGlhAAAAIG1kaGQAAAAAAAAAAAAAAAAAADIAAAGUAFXEAAAAAAAtaGRscgAAAAAAAAAAdmlkZQAAAAAAAAAAAAAAAFZpZGVvSGFuZGxlcgAAAAqlbWluZgAAABR2bWhkAAAAAQAAAAAAAAAAAAAAJGRpbmYAAAAcZHJlZgAAAAAAAAABAAAADHVybCAAAAABAAAKZXN0YmwAAACVc3RzZAAAAAAAAAABAAAAhWF2YzEAAAAAAAAAAQAAAAAAAAAAAAAAAAAAAAABEAEQAEgAAABIAAAAAAAAAAEAAAAAAAAAAAAAAAAAAAAAAAAAAAAAAAAAAAAAAAAAAAAY//8AAAAvYXZjQwH0AA3/4QAXZ/QADZGbKCIR0IAAAAMAgAAAGQeKFMsBAAVo6+PESAAAABhzdHRzAAAAAAAAAAEAAADKAAACAAAAABRzdHNzAAAAAAAAAAEAAAABAAAGMGN0dHMAAAAAAAAAxAAAAAIAAAQAAAAAAQAABgAAAAABAAACAAAAAAEAAAYAAAAAAQAAAgAAAAABAAAIAAAAAAIAAAIAAAAAAQAABAAAAAABAAAKAAAAAAEAAAQAAAAAAQAAAAAAAAABAAACAAAAAAEAAAoAAAAAAQAABAAAAAABAAAAAAAAAAEAAAIAAAAAAQAACgAAAAABAAAEAAAAAAEAAAAAAAAAAQAAAgAAAAABAAAEAAAAAAEAAAYAAAAAAQAAAgAAAAABAAAKAAAAAAEAAAQAAAAAAQAAAAAAAAABAAACAAAAAAEAAAoAAAAAAQAABAAAAAABAAAAAAAAAAEAAAIAAAAAAQAACgAAAAABAAAEAAAAAAEAAAAAAAAAAQAAAgAAAAABAAAGAAAAAAEAAAIAAAAAAQAABgAAAAABAAACAAAAAAEAAAYAAAAAAQAAAgAAAAABAAAGAAAAAAEAAAIAAAAAAQAABgAAAAABAAACAAAAAAEAAAYAAAAAAQAAAgAAAAABAAAGAAAAAAEAAAIAAAAAAQAABgAAAAABAAACAAAAAAEAAAYAAAAAAQAAAgAAAAABAAAEAAAAAAEAAAoAAAAAAQAABAAAAAABAAAAAAAAAAEAAAIAAAAAAQAACgAAAAABAAAEAAAAAAEAAAAAAAAAAQAAAgAAAAABAAAKAAAAAAEAAAQAAAAAAQAAAAAAAAABAAACAAAAAAEAAAoAAAAAAQAABAAAAAABAAAAAAAAAAEAAAIAAAAAAQAACgAAAAABAAAEAAAAAAEAAAAAAAAAAQAAAgAAAAABAAAKAAAAAAEAAAQAAAAAAQAAAAAAAAABAAACAAAAAAEAAAoAAAAAAQAABAAAAAABAAAAAAAAAAEAAAIAAAAAAQAACgAAAAABAAAEAAAAAAEAAAAAAAAAAQAAAgAAAAABAAAKAAAAAAEAAAQAAAAAAQAAAAAAAAABAAACAAAAAAEAAAoAAAAAAQAABAAAAAABAAAAAAAAAAEAAAIAAAAAAQAACgAAAAABAAAEAAAAAAEAAAAAAAAAAQAAAgAAAAABAAAKAAAAAAEAAAQAAAAAAQAAAAAAAAABAAACAAAAAAIAAAQAAAAAAQAACgAAAAABAAAEAAAAAAEAAAAAAAAAAQAAAgAAAAACAAAEAAAAAAEAAAoAAAAAAQAABAAAAAABAAAAAAAAAAEAAAIAAAAAAQAACgAAAAABAAAEAAAAAAEAAAAAAAAAAQAAAgAAAAABAAAKAAAAAAEAAAQAAAAAAQAAAAAAAAABAAACAAAAAAEAAAoAAAAAAQAABAAAAAABAAAAAAAAAAEAAAIAAAAAAQAACgAAAAABAAAEAAAAAAEAAAAAAAAAAQAAAgAAAAABAAAKAAAAAAEAAAQAAAAAAQAAAAAAAAABAAACAAAAAAEAAAoAAAAAAQAABAAAAAABAAAAAAAAAAEAAAIAAAAAAQAACgAAAAABAAAEAAAAAAEAAAAAAAAAAQAAAgAAAAABAAAKAAAAAAEAAAQAAAAAAQAAAAAAAAABAAACAAAAAAEAAAoAAAAAAQAABAAAAAABAAAAAAAAAAEAAAIAAAAAAQAACgAAAAABAAAEAAAAAAEAAAAAAAAAAQAAAgAAAAABAAAKAAAAAAEAAAQAAAAAAQAAAAAAAAABAAACAAAAAAEAAAoAAAAAAQAABAAAAAABAAAAAAAAAAEAAAIAAAAAAQAACgAAAAABAAAEAAAAAAEAAAAAAAAAAQAAAgAAAAABAAAKAAAAAAEAAAQAAAAAAQAAAAAAAAABAAACAAAAAAEAAAgAAAAAAgAAAgAAAAABAAAEAAAAAAEAAAoAAAAAAQAABAAAAAABAAAAAAAAAAEAAAIAAAAAAgAABAAAAAABAAAKAAAAAAEAAAQAAAAAAQAAAAAAAAABAAACAAAAAAEAAAoAAAAAAQAABAAAAAABAAAAAAAAAAEAAAIAAAAAAQAACgAAAAABAAAEAAAAAAEAAAAAAAAAAQAAAgAAAAABAAAKAAAAAAEAAAQAAAAAAQAAAAAAAAABAAACAAAAAAEAAAoAAAAAAQAABAAAAAABAAAAAAAAAAEAAAIAAAAAHHN0c2MAAAAAAAAAAQAAAAEAAADKAAAAAQAAAzxzdHN6AAAAAAAAAAAAAADKAAAFWAAAABgAAAAeAAAAEwAAACAAAAAUAAAAHgAAABMAAAARAAAAHwAAABYAAAAYAAAAFAAAABQAAAAWAAAAEAAAABQAAAAUAAAAFgAAABAAAAAUAAAAFAAAAB4AAAAhAAAAFAAAACMAAAAVAAAAEwAAABQAAAAXAAAAEAAAABQAAAAUAAAAFgAAABAAAAAWAAAAFAAAABcAAAAWAAAAFgAAABYAAAAWAAAAFgAAABYAAAAWAAAAFgAAABYAAAAWAAAAFgAAABYAAAAWAAAAFgAAABYAAAAWAAAAFgAAACEAAAAiAAAAFAAAABQAAAATAAAAFwAAABAAAAAUAAAAEwAAACAAAAAUAAAAEwAAABQAAAAbAAAAEgAAABQAAAAUAAAAIAAAABQAAAAUAAAAEwAAABcAAAAQAAAAEwAAABMAAAAXAAAAEAAAABMAAAATAAAAFwAAABAAAAATAAAAEwAAABcAAAAQAAAAEwAAABMAAAAXAAAAEAAAABMAAAATAAAAIAAAABQAAAATAAAAEwAAABYAAAAQAAAAFAAAABQAAAAeAAAAHQAAAB8AAAAUAAAAEwAAABMAAAAdAAAAHQAAABYAAAAQAAAAEwAAABMAAAAXAAAAEAAAABMAAAATAAAAFwAAABAAAAATAAAAEwAAACAAAAAUAAAAFAAAABMAAAAXAAAAEAAAABQAAAATAAAAFwAAABAAAAAUAAAAEwAAABcAAAAQAAAAFAAAABMAAAAgAAAAFAAAABMAAAATAAAAFwAAABAAAAATAAAAEwAAABcAAAAQAAAAEwAAABMAAAAXAAAAEAAAABMAAAATAAAAFwAAABAAAAATAAAAEwAAABcAAAAQAAAAEwAAABMAAAAgAAAAFAAAABMAAAAUAAAAFgAAABAAAAAUAAAAEwAAAB4AAAATAAAAEQAAAB4AAAAfAAAAFAAAABMAAAATAAAAHQAAAB0AAAAWAAAAEAAAABMAAAATAAAAFwAAABAAAAATAAAAEwAAABYAAAAQAAAAEwAAABMAAAAWAAAAEAAAABQAAAATAAAAHgAAACcAAAATAAAAKAAAABRzdGNvAAAAAAAAAAEAAAAwAAAAYnVkdGEAAABabWV0YQAAAAAAAAAhaGRscgAAAAAAAAAAbWRpcmFwcGwAAAAAAAAAAAAAAAAtaWxzdAAAACWpdG9vAAAAHWRhdGEAAAABAAAAAExhdmY1OC4yNi4xMDE=\" type=\"video/mp4\" />\n",
       "             </video>"
      ],
      "text/plain": [
       "<IPython.core.display.HTML object>"
      ]
     },
     "execution_count": 14,
     "metadata": {},
     "output_type": "execute_result"
    }
   ],
   "source": [
    "env = Environment(grid_size=size, max_time=T, temperature=0.3)\n",
    "agent = DQN_FC(size, lr=0.1, epsilon = 0.1, memory_size=2000, batch_size = 32)\n",
    "train(agent, env, 25, prefix='fc_train') # I have put number of epochs manually\n",
    "HTML(display_videos('fc_train10.mp4'))"
   ]
  },
  {
   "cell_type": "markdown",
   "metadata": {},
   "source": [
    "***\n",
    "***\n",
    "__Question 8__ Implement the DQN training algorithm using a CNN (for example, 2 convolutional layers and one final fully connected layer)."
   ]
  },
  {
   "cell_type": "code",
   "execution_count": 15,
   "metadata": {},
   "outputs": [],
   "source": [
    "class DQN_CNN(DQN):\n",
    "    def __init__(self, *args,lr=0.1,**kwargs):\n",
    "        super(DQN_CNN, self).__init__(*args,**kwargs)\n",
    "        \n",
    "        ###### FILL IN\n",
    "        model = Sequential()\n",
    "        model.add(Conv2D(64,kernel_size=2,input_shape=(5,5,self.n_state,),activation='relu'))\n",
    "        model.add(MaxPooling2D(2))\n",
    "        model.add(BatchNormalization())\n",
    "        model.add(Conv2D(64,kernel_size = 2,activation='relu'))\n",
    "        model.add(BatchNormalization())\n",
    "        model.add(Flatten())\n",
    "        model.add(Dense(4))\n",
    "        model.compile(sgd(lr=lr, decay=1e-4, momentum=0.0), \"mse\")\n",
    "        self.model = model"
   ]
  },
  {
   "cell_type": "code",
   "execution_count": 16,
   "metadata": {},
   "outputs": [
    {
     "name": "stdout",
     "output_type": "stream",
     "text": [
      "Epoch 000/025 | Loss 0.1351 | Win/lose count 5.0/7.0 (-2.0)\n",
      "Epoch 001/025 | Loss 0.4554 | Win/lose count 4.0/1.0 (3.0)\n",
      "Epoch 002/025 | Loss 0.2904 | Win/lose count 3.5/5.0 (-1.5)\n",
      "Epoch 003/025 | Loss 0.0468 | Win/lose count 3.0/4.0 (-1.0)\n",
      "Epoch 004/025 | Loss 0.0359 | Win/lose count 7.0/12.0 (-5.0)\n",
      "Epoch 005/025 | Loss 0.0538 | Win/lose count 5.0/4.0 (1.0)\n",
      "Epoch 006/025 | Loss 0.0310 | Win/lose count 2.0/1.0 (1.0)\n",
      "Epoch 007/025 | Loss 0.0169 | Win/lose count 3.0/3.0 (0.0)\n",
      "Epoch 008/025 | Loss 0.0158 | Win/lose count 4.0/8.0 (-4.0)\n",
      "Epoch 009/025 | Loss 0.0156 | Win/lose count 1.5/1.0 (0.5)\n",
      "Epoch 010/025 | Loss 0.0099 | Win/lose count 3.0/5.0 (-2.0)\n",
      "Epoch 011/025 | Loss 0.0090 | Win/lose count 4.5/4.0 (0.5)\n",
      "Epoch 012/025 | Loss 0.0113 | Win/lose count 3.5/1.0 (2.5)\n",
      "Epoch 013/025 | Loss 0.0243 | Win/lose count 8.0/2.0 (6.0)\n",
      "Epoch 014/025 | Loss 0.0156 | Win/lose count 9.0/4.0 (5.0)\n",
      "Epoch 015/025 | Loss 0.0217 | Win/lose count 7.0/5.0 (2.0)\n",
      "Epoch 016/025 | Loss 0.0943 | Win/lose count 4.0/3.0 (1.0)\n",
      "Epoch 017/025 | Loss 0.0231 | Win/lose count 0.5/1.0 (-0.5)\n",
      "Epoch 018/025 | Loss 0.1376 | Win/lose count 5.0/2.0 (3.0)\n",
      "Epoch 019/025 | Loss 0.0254 | Win/lose count 7.0/2.0 (5.0)\n",
      "Epoch 020/025 | Loss 0.0157 | Win/lose count 7.0/2.0 (5.0)\n",
      "Epoch 021/025 | Loss 0.0601 | Win/lose count 6.0/3.0 (3.0)\n",
      "Epoch 022/025 | Loss 0.0120 | Win/lose count 11.0/4.0 (7.0)\n",
      "Epoch 023/025 | Loss 0.0051 | Win/lose count 3.0/6.0 (-3.0)\n",
      "Epoch 024/025 | Loss 0.0109 | Win/lose count 15.5/3.0 (12.5)\n"
     ]
    },
    {
     "data": {
      "text/html": [
       "<video alt=\"test\" controls>\n",
       "                <source src=\"data:video/mp4;base64,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\" type=\"video/mp4\" />\n",
       "             </video>"
      ],
      "text/plain": [
       "<IPython.core.display.HTML object>"
      ]
     },
     "execution_count": 16,
     "metadata": {},
     "output_type": "execute_result"
    }
   ],
   "source": [
    "env = Environment(grid_size=size, max_time=T, temperature=0.3)\n",
    "agent = DQN_CNN(size, lr=.1, epsilon = 0.1, memory_size=2000, batch_size = 32)\n",
    "train(agent,env,25,prefix='cnn_train')\n",
    "HTML(display_videos('cnn_train10.mp4'))"
   ]
  },
  {
   "cell_type": "markdown",
   "metadata": {},
   "source": [
    "***\n",
    "***\n",
    "__Question 9__ Test both algorithms and compare their performances. Which issue(s) do you observe? Observe also different behaviors by changing the temperature."
   ]
  },
  {
   "cell_type": "code",
   "execution_count": 17,
   "metadata": {
    "scrolled": true
   },
   "outputs": [
    {
     "name": "stdout",
     "output_type": "stream",
     "text": [
      "Test of the CNN\n",
      "Win/lose count 5.5/3.0. Average score (2.5)\n",
      "Win/lose count 7.0/4.0. Average score (2.75)\n",
      "Win/lose count 10.0/2.0. Average score (4.5)\n",
      "Win/lose count 4.5/1.0. Average score (4.25)\n",
      "Win/lose count 9.5/4.0. Average score (4.5)\n",
      "Win/lose count 16.0/3.0. Average score (5.916666666666667)\n",
      "Win/lose count 12.5/4.0. Average score (6.285714285714286)\n",
      "Win/lose count 11.0/7.0. Average score (6.0)\n",
      "Win/lose count 5.0/0. Average score (5.888888888888889)\n",
      "Win/lose count 5.0/4.0. Average score (5.4)\n",
      "Win/lose count 10.5/2.0. Average score (5.681818181818182)\n",
      "Final score: 5.681818181818182\n",
      "Test of the FC\n",
      "Win/lose count 10.0/0. Average score (10.0)\n",
      "Win/lose count 6.0/6.0. Average score (5.0)\n",
      "Win/lose count 9.5/1.0. Average score (6.166666666666667)\n",
      "Win/lose count 9.0/2.0. Average score (6.375)\n",
      "Win/lose count 3.5/3.0. Average score (5.2)\n",
      "Win/lose count 9.0/0. Average score (5.833333333333333)\n",
      "Win/lose count 12.5/4.0. Average score (6.214285714285714)\n",
      "Win/lose count 9.0/2.0. Average score (6.3125)\n",
      "Win/lose count 8.0/1.0. Average score (6.388888888888889)\n",
      "Win/lose count 6.0/1.0. Average score (6.25)\n",
      "Win/lose count 16.5/4.0. Average score (6.818181818181818)\n",
      "Final score: 6.818181818181818\n"
     ]
    }
   ],
   "source": [
    "env = Environment(grid_size=size, max_time=T,temperature=0.8)\n",
    "agent_cnn = DQN_CNN(size, lr=.1, epsilon = 0.1, memory_size=2000, batch_size = 32)\n",
    "agent_cnn.load(name_weights='cnn_trainmodel.h5',name_model='cnn_trainmodel.json')\n",
    "\n",
    "agent_fc = DQN_FC(size, lr=.1, epsilon = 0.1, memory_size=2000, batch_size = 32)\n",
    "agent_cnn.load(name_weights='fc_trainmodel.h5',name_model='fc_trainmodel.json')\n",
    "print('Test of the CNN')\n",
    "test(agent_cnn,env,11,prefix='cnn_test')\n",
    "print('Test of the FC')\n",
    "test(agent_fc,env,11,prefix='fc_test')"
   ]
  },
  {
   "cell_type": "code",
   "execution_count": 18,
   "metadata": {},
   "outputs": [
    {
     "data": {
      "text/html": [
       "<video alt=\"test\" controls>\n",
       "                <source src=\"data:video/mp4;base64,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\" type=\"video/mp4\" />\n",
       "             </video>"
      ],
      "text/plain": [
       "<IPython.core.display.HTML object>"
      ]
     },
     "execution_count": 18,
     "metadata": {},
     "output_type": "execute_result"
    }
   ],
   "source": [
    "HTML(display_videos('cnn_test10.mp4'))"
   ]
  },
  {
   "cell_type": "code",
   "execution_count": 19,
   "metadata": {},
   "outputs": [
    {
     "data": {
      "text/html": [
       "<video alt=\"test\" controls>\n",
       "                <source src=\"data:video/mp4;base64,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\" type=\"video/mp4\" />\n",
       "             </video>"
      ],
      "text/plain": [
       "<IPython.core.display.HTML object>"
      ]
     },
     "execution_count": 19,
     "metadata": {},
     "output_type": "execute_result"
    }
   ],
   "source": [
    "HTML(display_videos('fc_test10.mp4'))"
   ]
  },
  {
   "cell_type": "markdown",
   "metadata": {},
   "source": [
    "While on training the Convolutional network considerably outperform the fully-connected network, it seems that on testing their peroformance is not really diffrent. Win-loose score is around 0, probably too much randomness is introduced. Also the higher temperature is accounted to the higher result."
   ]
  },
  {
   "cell_type": "markdown",
   "metadata": {},
   "source": [
    "***\n",
    "\n",
    "The algorithm tends to not explore the map which can be an issue. We propose two ideas in order to encourage exploration:\n",
    "1. Incorporating a decreasing $\\epsilon$-greedy exploration. You can use the method ```set_epsilon```\n",
    "2. Append via the environment a new state that describes if a cell has been visited or not\n",
    "\n",
    "***\n",
    "__Question 10__ Design a new ```train_explore``` function and environment class ```EnvironmentExploring``` to tackle the issue of exploration.\n",
    "\n"
   ]
  },
  {
   "cell_type": "code",
   "execution_count": 20,
   "metadata": {},
   "outputs": [],
   "source": [
    "# I used almost the same algorithm which was introduced in the notebook for train and environment\n",
    "def train_explore(agent,env,epoch,prefix=''):\n",
    "    # Number of won games\n",
    "    score = 0\n",
    "    loss = 0\n",
    "    for e in range(epoch):\n",
    "        # At each epoch, we restart to a fresh game and get the initial state\n",
    "        state = env.reset()\n",
    "        # This assumes that the games will terminate\n",
    "        game_over = False\n",
    "\n",
    "        win = 0\n",
    "        lose = 0\n",
    "        while not game_over:\n",
    "            # The agent performs an action\n",
    "            action = agent.act(state)\n",
    "            # Apply an action to the environment, get the next state, the reward\n",
    "            # and if the games end\n",
    "            prev_state = state\n",
    "            state, reward, game_over = env.act(action, train=True)\n",
    "\n",
    "            # Update the counters\n",
    "            if reward > 0:\n",
    "                win = win + reward\n",
    "            if reward < 0:\n",
    "                lose = lose -reward\n",
    "\n",
    "            # Apply the reinforcement strategy\n",
    "            loss = agent.reinforce(prev_state, state,  action, reward, game_over)\n",
    "        \n",
    "        # Decrease the exploration rate\n",
    "        agent.set_epsilon(agent.epsilon * 0.5)\n",
    "\n",
    "        # Save as a mp4\n",
    "        if e % 10 == 0:\n",
    "            env.draw(prefix+str(e))\n",
    "\n",
    "        # Update stats\n",
    "        score += win-lose\n",
    "\n",
    "        print(\"Epoch {:03d}/{:03d} | Loss {:.4f} | Win/lose count {}/{} ({})\"\n",
    "              .format(e, epoch, loss, round(win, 2), round(lose, 2), round(win-lose, 2)))\n",
    "        agent.save(name_weights=prefix+'model.h5', name_model=prefix+'model.json')\n",
    "\n",
    "class EnvironmentExploring(object):\n",
    "    def __init__(self, grid_size=10, max_time=500, temperature=0.1):\n",
    "        grid_size = grid_size+4\n",
    "        self.grid_size = grid_size\n",
    "        self.max_time = max_time\n",
    "        self.temperature = temperature\n",
    "\n",
    "        #board on which one plays\n",
    "        self.board = np.zeros((grid_size,grid_size))\n",
    "        self.position = np.zeros((grid_size,grid_size))\n",
    "        self.malus_position = np.zeros((grid_size,grid_size))\n",
    "\n",
    "        # coordinate of the cat\n",
    "        self.x = 0\n",
    "        self.y = 1\n",
    "\n",
    "        # self time\n",
    "        self.t = 0\n",
    "\n",
    "        self.scale=16\n",
    "\n",
    "        self.to_draw = np.zeros((max_time+2, grid_size*self.scale, grid_size*self.scale, 3))\n",
    "\n",
    "\n",
    "    def draw(self, e):\n",
    "        skvideo.io.vwrite(str(e) + '.mp4', self.to_draw)\n",
    "\n",
    "    def get_frame(self, t):\n",
    "        b = np.zeros((self.grid_size,self.grid_size,3))+128\n",
    "        b[self.board>0,0] = 256\n",
    "        b[self.board < 0, 2] = 256\n",
    "        b[self.x,self.y,:]=256\n",
    "        b[-2:,:,:]=0\n",
    "        b[:,-2:,:]=0\n",
    "        b[:2,:,:]=0\n",
    "        b[:,:2,:]=0\n",
    "        \n",
    "        b =  cv2.resize(b, None, fx=self.scale, fy=self.scale, interpolation=cv2.INTER_NEAREST)\n",
    "\n",
    "        self.to_draw[t,:,:,:]=b\n",
    "\n",
    "\n",
    "    def act(self, action, train=False):\n",
    "        \"\"\"This function returns the new state, reward and decides if the\n",
    "        game ends.\"\"\"\n",
    "\n",
    "        self.get_frame(int(self.t))\n",
    "\n",
    "        self.position = np.zeros((self.grid_size, self.grid_size))\n",
    "\n",
    "        self.position[0:2,:]= -1\n",
    "        self.position[:,0:2] = -1\n",
    "        self.position[-2:, :] = -1\n",
    "        self.position[-2:, :] = -1\n",
    "\n",
    "        self.position[self.x, self.y] = 1\n",
    "        if action == 0:\n",
    "            if self.x == self.grid_size-3:\n",
    "                self.x = self.x-1\n",
    "            else:\n",
    "                self.x = self.x + 1\n",
    "        elif action == 1:\n",
    "            if self.x == 2:\n",
    "                self.x = self.x+1\n",
    "            else:\n",
    "                self.x = self.x-1\n",
    "        elif action == 2:\n",
    "            if self.y == self.grid_size - 3:\n",
    "                self.y = self.y - 1\n",
    "            else:\n",
    "                self.y = self.y + 1\n",
    "        elif action == 3:\n",
    "            if self.y == 2:\n",
    "                self.y = self.y + 1\n",
    "            else:\n",
    "                self.y = self.y - 1\n",
    "        else:\n",
    "            RuntimeError('Error: action not recognized')\n",
    "\n",
    "        self.t = self.t + 1\n",
    "        \n",
    "        reward = 0\n",
    "        # Bad position\n",
    "        if train:\n",
    "            reward = -self.malus_position[self.x, self.y] # Punish the agent if the state was visited before\n",
    "        self.malus_position[self.x, self.y] = 0.1 # Mark the current state as visited\n",
    "        # Normal bonus\n",
    "        reward = reward + self.board[self.x, self.y]\n",
    "        \n",
    "        self.board[self.x, self.y] = 0\n",
    "        game_over = self.t > self.max_time\n",
    "        state = np.concatenate((self.malus_position.reshape(self.grid_size, self.grid_size,1),\n",
    "                                self.board.reshape(self.grid_size, self.grid_size,1),\n",
    "                        self.position.reshape(self.grid_size, self.grid_size,1)),axis=2)\n",
    "        state = state[self.x-2:self.x+3,self.y-2:self.y+3,:]\n",
    "        \n",
    "        return state, reward, game_over\n",
    "\n",
    "    def reset(self):\n",
    "        \"\"\"This function resets the game and returns the initial state\"\"\"\n",
    "\n",
    "        self.x = np.random.randint(3, self.grid_size-3, size=1)[0]\n",
    "        self.y = np.random.randint(3, self.grid_size-3, size=1)[0]\n",
    "\n",
    "\n",
    "        bonus = 0.5*np.random.binomial(1,self.temperature,size=self.grid_size**2)\n",
    "        bonus = bonus.reshape(self.grid_size,self.grid_size)\n",
    "\n",
    "        malus = -1.0*np.random.binomial(1,self.temperature,size=self.grid_size**2)\n",
    "        malus = malus.reshape(self.grid_size, self.grid_size)\n",
    "\n",
    "        self.to_draw = np.zeros((self.max_time+2, self.grid_size*self.scale, self.grid_size*self.scale, 3))\n",
    "\n",
    "\n",
    "        malus[bonus>0]=0\n",
    "\n",
    "        self.board = bonus + malus\n",
    "\n",
    "        self.position = np.zeros((self.grid_size, self.grid_size))\n",
    "        self.position[0:2,:]= -1\n",
    "        self.position[:,0:2] = -1\n",
    "        self.position[-2:, :] = -1\n",
    "        self.position[-2:, :] = -1\n",
    "        self.board[self.x,self.y] = 0\n",
    "        self.t = 0\n",
    "\n",
    "        # The state now includes wether the surrounding states were visited before\n",
    "        # 3 \"feature\" states instead of 2\n",
    "        state = np.concatenate((self.malus_position.reshape(self.grid_size, self.grid_size,1),\n",
    "                                self.board.reshape(self.grid_size, self.grid_size,1),\n",
    "                        self.position.reshape(self.grid_size, self.grid_size,1)),axis=2)\n",
    "    \n",
    "        state = state[self.x - 2:self.x + 3, self.y - 2:self.y + 3, :]\n",
    "        return state"
   ]
  },
  {
   "cell_type": "code",
   "execution_count": 58,
   "metadata": {},
   "outputs": [
    {
     "name": "stdout",
     "output_type": "stream",
     "text": [
      "Epoch 000/025 | Loss 0.2683 | Win/lose count 7.5/23.1 (-15.6)\n",
      "Epoch 001/025 | Loss 0.1159 | Win/lose count 5.3/23.7 (-18.4)\n",
      "Epoch 002/025 | Loss 0.1017 | Win/lose count 7.8/23.7 (-15.9)\n",
      "Epoch 003/025 | Loss 0.0261 | Win/lose count 6.5/20.9 (-14.4)\n",
      "Epoch 004/025 | Loss 0.0374 | Win/lose count 6.7/21.9 (-15.2)\n",
      "Epoch 005/025 | Loss 0.0233 | Win/lose count 8.2/21.5 (-13.3)\n",
      "Epoch 006/025 | Loss 0.0161 | Win/lose count 8.2/22.0 (-13.8)\n",
      "Epoch 007/025 | Loss 0.0368 | Win/lose count 3.0/21.4 (-18.4)\n",
      "Epoch 008/025 | Loss 0.0161 | Win/lose count 7.3/25.1 (-17.8)\n",
      "Epoch 009/025 | Loss 0.0081 | Win/lose count 3.2/21.3 (-18.1)\n",
      "Epoch 010/025 | Loss 0.0128 | Win/lose count 6.1/20.4 (-14.3)\n",
      "Epoch 011/025 | Loss 0.0084 | Win/lose count 9.3/21.7 (-12.4)\n",
      "Epoch 012/025 | Loss 0.0127 | Win/lose count 6.9/22.3 (-15.4)\n",
      "Epoch 013/025 | Loss 0.0256 | Win/lose count 3.6/19.2 (-15.6)\n",
      "Epoch 014/025 | Loss 0.0268 | Win/lose count 5.7/20.7 (-15.0)\n",
      "Epoch 015/025 | Loss 0.0139 | Win/lose count 10.0/20.6 (-10.6)\n",
      "Epoch 016/025 | Loss 0.0038 | Win/lose count 10.8/19.4 (-8.6)\n",
      "Epoch 017/025 | Loss 0.0108 | Win/lose count 8.4/20.0 (-11.6)\n",
      "Epoch 018/025 | Loss 0.0166 | Win/lose count 12.4/20.0 (-7.6)\n",
      "Epoch 019/025 | Loss 0.0149 | Win/lose count 12.0/22.1 (-10.1)\n",
      "Epoch 020/025 | Loss 0.0168 | Win/lose count 14.0/19.6 (-5.6)\n",
      "Epoch 021/025 | Loss 0.0099 | Win/lose count 8.8/20.9 (-12.1)\n",
      "Epoch 022/025 | Loss 0.0118 | Win/lose count 16.0/19.1 (-3.1)\n",
      "Epoch 023/025 | Loss 0.0082 | Win/lose count 9.6/21.7 (-12.1)\n",
      "Epoch 024/025 | Loss 0.0181 | Win/lose count 20.0/20.1 (-0.1)\n"
     ]
    },
    {
     "data": {
      "text/html": [
       "<video alt=\"test\" controls>\n",
       "                <source src=\"data:video/mp4;base64,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\" type=\"video/mp4\" />\n",
       "             </video>"
      ],
      "text/plain": [
       "<IPython.core.display.HTML object>"
      ]
     },
     "execution_count": 58,
     "metadata": {},
     "output_type": "execute_result"
    }
   ],
   "source": [
    "# Training\n",
    "env = EnvironmentExploring(grid_size=size, max_time=T, temperature=0.3)\n",
    "agent = DQN_CNN(size, lr=.1, epsilon = 0.7, memory_size=2000, batch_size = 32,n_state=3)\n",
    "train_explore(agent, env, 25, prefix='cnn_train_explore')\n",
    "HTML(display_videos('cnn_train_explore10.mp4'))"
   ]
  },
  {
   "cell_type": "code",
   "execution_count": 59,
   "metadata": {},
   "outputs": [
    {
     "name": "stdout",
     "output_type": "stream",
     "text": [
      "Win/lose count 4.5/1.0. Average score (3.5)\n",
      "Win/lose count 1.5/0. Average score (2.5)\n",
      "Win/lose count 21.5/2.0. Average score (8.166666666666666)\n",
      "Win/lose count 7.5/1.0. Average score (7.75)\n",
      "Win/lose count 14.0/1.0. Average score (8.8)\n",
      "Win/lose count 10.5/1.0. Average score (8.916666666666666)\n",
      "Win/lose count 3.0/0. Average score (8.071428571428571)\n",
      "Win/lose count 5.5/2.0. Average score (7.5)\n",
      "Win/lose count 1.0/1.0. Average score (6.666666666666667)\n",
      "Win/lose count 4.5/1.0. Average score (6.35)\n",
      "Win/lose count 4.0/3.0. Average score (5.863636363636363)\n",
      "Final score: 5.863636363636363\n"
     ]
    },
    {
     "data": {
      "text/html": [
       "<video alt=\"test\" controls>\n",
       "                <source src=\"data:video/mp4;base64,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\" type=\"video/mp4\" />\n",
       "             </video>"
      ],
      "text/plain": [
       "<IPython.core.display.HTML object>"
      ]
     },
     "execution_count": 59,
     "metadata": {},
     "output_type": "execute_result"
    }
   ],
   "source": [
    "# Evaluation\n",
    "test(agent,env,11,prefix='cnn_test_explore')\n",
    "HTML(display_videos('cnn_test_explore10.mp4'))"
   ]
  },
  {
   "cell_type": "markdown",
   "metadata": {},
   "source": [
    "***\n",
    "***\n",
    "__BONUS question__ Use the expert DQN from the previous question to generate some winning games. Train a model that mimicks its behavior. Compare the performances."
   ]
  },
  {
   "cell_type": "markdown",
   "metadata": {},
   "source": []
  },
  {
   "cell_type": "markdown",
   "metadata": {},
   "source": [
    "***"
   ]
  },
  {
   "cell_type": "code",
   "execution_count": null,
   "metadata": {},
   "outputs": [],
   "source": []
  }
 ],
 "metadata": {
  "kernelspec": {
   "display_name": "Python 3",
   "language": "python",
   "name": "python3"
  },
  "language_info": {
   "codemirror_mode": {
    "name": "ipython",
    "version": 3
   },
   "file_extension": ".py",
   "mimetype": "text/x-python",
   "name": "python",
   "nbconvert_exporter": "python",
   "pygments_lexer": "ipython3",
   "version": "3.6.8"
  }
 },
 "nbformat": 4,
 "nbformat_minor": 2
}
